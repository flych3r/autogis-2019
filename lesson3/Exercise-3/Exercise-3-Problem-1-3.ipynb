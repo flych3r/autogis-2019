{
 "cells": [
  {
   "cell_type": "code",
   "execution_count": 207,
   "metadata": {},
   "outputs": [],
   "source": [
    "import pandas as pd\n",
    "import geopandas as gpd\n",
    "import matplotlib.pyplot as plt\n",
    "from pyproj import CRS"
   ]
  },
  {
   "cell_type": "markdown",
   "metadata": {},
   "source": [
    "### Problem 1: Geocode shopping centers (5 points)\n",
    "\n",
    "The overall aim of problems 1-3 is to find out **how many people live within a walking distance (1.5 km) from certain shopping centers in Helsinki**.\n",
    "\n",
    "In problem 1 aim is to find out the addresses of shopping centers and to retreive numercal coordinates for these addresses. As an output, we will have a Shapefile called `shopping_centers.shp` which contains the geocoded result.\n",
    "\n",
    "**Preparation:** Find out the addresses for following shopping centers from the internet, and write the addresses into a text file called `shopping_centers.txt`:\n",
    "\n",
    " - Itis\n",
    " - Forum\n",
    " - Iso-omena\n",
    " - Sello\n",
    " - Jumbo\n",
    " - REDI\n",
    " - Tripla \n",
    " \n",
    " *Hint for \"Tripla\": This shopping center opened in October 10 2019, and if you are doing this exercise soon after that, the official address might not yet be in online databases. \n",
    " Check for an address nearby the Pasila railway station on OpenStreetMap.org and use that as input.*\n",
    "\n",
    "`shopping_centers.txt` should have semicolon (`;`) as a separator, and the file should include the following columns:\n",
    "\n",
    "- ``id`` (integer) containing an unique identifier for each shopping center\n",
    "- ``name`` (string) of each shopping center\n",
    "- ``addr`` (string) the address \n",
    "\n",
    "\n",
    "See and example of how to format the text file [in the lesson 3 materials](https://automating-gis-processes.github.io/site/master/notebooks/L3/geocoding_in_geopandas.html). Save (and upload) the text file into your exercise repository.\n",
    "\n",
    "- Read `shopping_centers.txt` that you just created into a pandas DataFrame called ``data``:"
   ]
  },
  {
   "cell_type": "code",
   "execution_count": 174,
   "metadata": {
    "deletable": false,
    "nbgrader": {
     "cell_type": "code",
     "checksum": "276d60ad6d7f474cc5214b8c85a0d5e4",
     "grade": false,
     "grade_id": "read_data",
     "locked": false,
     "schema_version": 3,
     "solution": true
    }
   },
   "outputs": [],
   "source": [
    "data = pd.read_csv('data/shopping_centers.txt', sep=';')"
   ]
  },
  {
   "cell_type": "code",
   "execution_count": 175,
   "metadata": {
    "deletable": false,
    "editable": false,
    "nbgrader": {
     "cell_type": "code",
     "checksum": "4e90dc0406dff7a0f4b0860443092087",
     "grade": true,
     "grade_id": "problem_1_read_data_tests",
     "locked": true,
     "points": 1,
     "schema_version": 3,
     "solution": false
    }
   },
   "outputs": [
    {
     "name": "stdout",
     "output_type": "stream",
     "text": [
      "          id         name                                            address\n",
      "0    6188896         Itis  Itis shopping centre, Itäkatu, Itäkeskus, Vart...\n",
      "1  289767497        Forum  Forum, Mannerheimintie, City center, Kluuvi, S...\n",
      "2  280210331  Ison Omenan  Ison Omenan kirjasto, Suomenlahdentie, Nuottan...\n",
      "3    7752187        Sello  Sello Shopping center, Linnatullinkatu, Etelä-...\n",
      "4  626938281         REDI  Redi, Hermannin rantatie, Kalasatama, Sörnäine...\n",
      "5  348149445        Jumbo  Mall of Tripla, Veturitie, Keski-Pasila, Pasil...\n"
     ]
    }
   ],
   "source": [
    "#NON-EDITABLE TEST CELL\n",
    "# Check your input data\n",
    "print(data)"
   ]
  },
  {
   "cell_type": "markdown",
   "metadata": {},
   "source": [
    "- Geocode the addresses using the Nominatim geocoding service. Store the output in a variable called `geo`:"
   ]
  },
  {
   "cell_type": "code",
   "execution_count": 176,
   "metadata": {
    "deletable": false,
    "nbgrader": {
     "cell_type": "code",
     "checksum": "263051ed5136dfe8571b4fb4b4d46019",
     "grade": false,
     "grade_id": "geocode",
     "locked": false,
     "schema_version": 3,
     "solution": true
    }
   },
   "outputs": [],
   "source": [
    "# Geocode the addresses using Nominatim\n",
    "geo = gpd.tools.geocode(data['address'], provider='nominatim', \n",
    "                        user_agent='autogis_xxx', timeout=4)"
   ]
  },
  {
   "cell_type": "code",
   "execution_count": 177,
   "metadata": {
    "deletable": false,
    "editable": false,
    "nbgrader": {
     "cell_type": "code",
     "checksum": "a3b8c4fef69c89dbb3299b84c11d3db7",
     "grade": true,
     "grade_id": "problem_1_gdf_test",
     "locked": true,
     "points": 1,
     "schema_version": 3,
     "solution": false,
     "task": false
    }
   },
   "outputs": [
    {
     "name": "stdout",
     "output_type": "stream",
     "text": [
      "                    geometry  \\\n",
      "0  POINT (25.08294 60.21170)   \n",
      "1  POINT (24.93814 60.16927)   \n",
      "2  POINT (24.73896 60.16010)   \n",
      "3  POINT (24.81226 60.21832)   \n",
      "4  POINT (24.98005 60.18708)   \n",
      "5  POINT (24.93137 60.19866)   \n",
      "\n",
      "                                             address  \n",
      "0  Kauppakeskus Itis, 1-7, Itäkatu, Itäkeskus, Va...  \n",
      "1  Forum, Mannerheimintie, Keskusta, Kluuvi, Etel...  \n",
      "2  Ison Omenan kirjasto, 1, Suomenlahdentie, Nuot...  \n",
      "3  Kauppakeskus Sello, Linnatullinkatu, Etelä-Lep...  \n",
      "4  Stadin Kebab, 5, Hermannin rantatie, Kalasatam...  \n",
      "5  Mall of Tripla, 1, Veturitie, Keski-Pasila, Pa...  \n"
     ]
    }
   ],
   "source": [
    "#NON-EDITABLE TEST CELL\n",
    "# Check the geocoded output\n",
    "print(geo)"
   ]
  },
  {
   "cell_type": "code",
   "execution_count": 178,
   "metadata": {
    "deletable": false,
    "editable": false,
    "nbgrader": {
     "cell_type": "code",
     "checksum": "f2e432e605330a668b5bfdbbbd12569e",
     "grade": true,
     "grade_id": "problem_1_geocode_tests",
     "locked": true,
     "points": 1,
     "schema_version": 3,
     "solution": false
    }
   },
   "outputs": [
    {
     "name": "stdout",
     "output_type": "stream",
     "text": [
      "<class 'geopandas.geodataframe.GeoDataFrame'>\n"
     ]
    }
   ],
   "source": [
    "#NON-EDITABLE TEST CELL\n",
    "# Check the data type (should be a GeoDataFrame!)\n",
    "print(type(geo))"
   ]
  },
  {
   "cell_type": "markdown",
   "metadata": {},
   "source": [
    "Check that the coordinate reference system of the geocoded result is correctly defined, and **reproject the layer into ETRS GK-25** (EPSG:3879):"
   ]
  },
  {
   "cell_type": "code",
   "execution_count": 179,
   "metadata": {
    "deletable": false,
    "nbgrader": {
     "cell_type": "code",
     "checksum": "472a4283af2c3532f40db1caa56100a7",
     "grade": false,
     "grade_id": "crs",
     "locked": false,
     "schema_version": 3,
     "solution": true
    }
   },
   "outputs": [],
   "source": [
    "geo = geo.to_crs(epsg=3879)"
   ]
  },
  {
   "cell_type": "code",
   "execution_count": 180,
   "metadata": {
    "deletable": false,
    "editable": false,
    "nbgrader": {
     "cell_type": "code",
     "checksum": "764cba257612241267e3b2bcc90b5dcd",
     "grade": true,
     "grade_id": "problem_1_crs_test",
     "locked": true,
     "points": 0.5,
     "schema_version": 3,
     "solution": false
    }
   },
   "outputs": [
    {
     "name": "stdout",
     "output_type": "stream",
     "text": [
      "epsg:3879\n"
     ]
    }
   ],
   "source": [
    "#NON-EDITABLE TEST CELL\n",
    "# Check layer crs\n",
    "print(geo.crs)"
   ]
  },
  {
   "cell_type": "markdown",
   "metadata": {},
   "source": [
    "- Make a table join between the geocoded addresses (``geo``) and the original addresses (``data``) in order to link the numerical coordinates and  the `id` and `name` of each shopping center. \n",
    "- Store the output in a variable called ``geodata`` \n"
   ]
  },
  {
   "cell_type": "code",
   "execution_count": 181,
   "metadata": {},
   "outputs": [
    {
     "data": {
      "text/html": [
       "<div>\n",
       "<style scoped>\n",
       "    .dataframe tbody tr th:only-of-type {\n",
       "        vertical-align: middle;\n",
       "    }\n",
       "\n",
       "    .dataframe tbody tr th {\n",
       "        vertical-align: top;\n",
       "    }\n",
       "\n",
       "    .dataframe thead th {\n",
       "        text-align: right;\n",
       "    }\n",
       "</style>\n",
       "<table border=\"1\" class=\"dataframe\">\n",
       "  <thead>\n",
       "    <tr style=\"text-align: right;\">\n",
       "      <th></th>\n",
       "      <th>geometry</th>\n",
       "      <th>address</th>\n",
       "    </tr>\n",
       "  </thead>\n",
       "  <tbody>\n",
       "    <tr>\n",
       "      <th>0</th>\n",
       "      <td>POINT (25504598.602 6677662.109)</td>\n",
       "      <td>Kauppakeskus Itis, 1-7, Itäkatu, Itäkeskus, Va...</td>\n",
       "    </tr>\n",
       "    <tr>\n",
       "      <th>1</th>\n",
       "      <td>POINT (25496566.028 6672933.128)</td>\n",
       "      <td>Forum, Mannerheimintie, Keskusta, Kluuvi, Etel...</td>\n",
       "    </tr>\n",
       "    <tr>\n",
       "      <th>2</th>\n",
       "      <td>POINT (25485504.300 6671938.465)</td>\n",
       "      <td>Ison Omenan kirjasto, 1, Suomenlahdentie, Nuot...</td>\n",
       "    </tr>\n",
       "    <tr>\n",
       "      <th>3</th>\n",
       "      <td>POINT (25489593.436 6678411.568)</td>\n",
       "      <td>Kauppakeskus Sello, Linnatullinkatu, Etelä-Lep...</td>\n",
       "    </tr>\n",
       "    <tr>\n",
       "      <th>4</th>\n",
       "      <td>POINT (25498893.192 6674916.094)</td>\n",
       "      <td>Stadin Kebab, 5, Hermannin rantatie, Kalasatam...</td>\n",
       "    </tr>\n",
       "    <tr>\n",
       "      <th>5</th>\n",
       "      <td>POINT (25496193.557 6676208.169)</td>\n",
       "      <td>Mall of Tripla, 1, Veturitie, Keski-Pasila, Pa...</td>\n",
       "    </tr>\n",
       "  </tbody>\n",
       "</table>\n",
       "</div>"
      ],
      "text/plain": [
       "                           geometry  \\\n",
       "0  POINT (25504598.602 6677662.109)   \n",
       "1  POINT (25496566.028 6672933.128)   \n",
       "2  POINT (25485504.300 6671938.465)   \n",
       "3  POINT (25489593.436 6678411.568)   \n",
       "4  POINT (25498893.192 6674916.094)   \n",
       "5  POINT (25496193.557 6676208.169)   \n",
       "\n",
       "                                             address  \n",
       "0  Kauppakeskus Itis, 1-7, Itäkatu, Itäkeskus, Va...  \n",
       "1  Forum, Mannerheimintie, Keskusta, Kluuvi, Etel...  \n",
       "2  Ison Omenan kirjasto, 1, Suomenlahdentie, Nuot...  \n",
       "3  Kauppakeskus Sello, Linnatullinkatu, Etelä-Lep...  \n",
       "4  Stadin Kebab, 5, Hermannin rantatie, Kalasatam...  \n",
       "5  Mall of Tripla, 1, Veturitie, Keski-Pasila, Pa...  "
      ]
     },
     "execution_count": 181,
     "metadata": {},
     "output_type": "execute_result"
    }
   ],
   "source": [
    "geo"
   ]
  },
  {
   "cell_type": "code",
   "execution_count": 182,
   "metadata": {},
   "outputs": [
    {
     "data": {
      "text/html": [
       "<div>\n",
       "<style scoped>\n",
       "    .dataframe tbody tr th:only-of-type {\n",
       "        vertical-align: middle;\n",
       "    }\n",
       "\n",
       "    .dataframe tbody tr th {\n",
       "        vertical-align: top;\n",
       "    }\n",
       "\n",
       "    .dataframe thead th {\n",
       "        text-align: right;\n",
       "    }\n",
       "</style>\n",
       "<table border=\"1\" class=\"dataframe\">\n",
       "  <thead>\n",
       "    <tr style=\"text-align: right;\">\n",
       "      <th></th>\n",
       "      <th>id</th>\n",
       "      <th>name</th>\n",
       "      <th>address</th>\n",
       "    </tr>\n",
       "  </thead>\n",
       "  <tbody>\n",
       "    <tr>\n",
       "      <th>0</th>\n",
       "      <td>6188896</td>\n",
       "      <td>Itis</td>\n",
       "      <td>Itis shopping centre, Itäkatu, Itäkeskus, Vart...</td>\n",
       "    </tr>\n",
       "    <tr>\n",
       "      <th>1</th>\n",
       "      <td>289767497</td>\n",
       "      <td>Forum</td>\n",
       "      <td>Forum, Mannerheimintie, City center, Kluuvi, S...</td>\n",
       "    </tr>\n",
       "    <tr>\n",
       "      <th>2</th>\n",
       "      <td>280210331</td>\n",
       "      <td>Ison Omenan</td>\n",
       "      <td>Ison Omenan kirjasto, Suomenlahdentie, Nuottan...</td>\n",
       "    </tr>\n",
       "    <tr>\n",
       "      <th>3</th>\n",
       "      <td>7752187</td>\n",
       "      <td>Sello</td>\n",
       "      <td>Sello Shopping center, Linnatullinkatu, Etelä-...</td>\n",
       "    </tr>\n",
       "    <tr>\n",
       "      <th>4</th>\n",
       "      <td>626938281</td>\n",
       "      <td>REDI</td>\n",
       "      <td>Redi, Hermannin rantatie, Kalasatama, Sörnäine...</td>\n",
       "    </tr>\n",
       "    <tr>\n",
       "      <th>5</th>\n",
       "      <td>348149445</td>\n",
       "      <td>Jumbo</td>\n",
       "      <td>Mall of Tripla, Veturitie, Keski-Pasila, Pasil...</td>\n",
       "    </tr>\n",
       "  </tbody>\n",
       "</table>\n",
       "</div>"
      ],
      "text/plain": [
       "          id         name                                            address\n",
       "0    6188896         Itis  Itis shopping centre, Itäkatu, Itäkeskus, Vart...\n",
       "1  289767497        Forum  Forum, Mannerheimintie, City center, Kluuvi, S...\n",
       "2  280210331  Ison Omenan  Ison Omenan kirjasto, Suomenlahdentie, Nuottan...\n",
       "3    7752187        Sello  Sello Shopping center, Linnatullinkatu, Etelä-...\n",
       "4  626938281         REDI  Redi, Hermannin rantatie, Kalasatama, Sörnäine...\n",
       "5  348149445        Jumbo  Mall of Tripla, Veturitie, Keski-Pasila, Pasil..."
      ]
     },
     "execution_count": 182,
     "metadata": {},
     "output_type": "execute_result"
    }
   ],
   "source": [
    "data"
   ]
  },
  {
   "cell_type": "code",
   "execution_count": 183,
   "metadata": {
    "deletable": false,
    "nbgrader": {
     "cell_type": "code",
     "checksum": "e5981729844bc6f2bca05c1a615c0f0e",
     "grade": false,
     "grade_id": "join",
     "locked": false,
     "schema_version": 3,
     "solution": true
    }
   },
   "outputs": [],
   "source": [
    "# Join the tables\n",
    "geodata = geo.join(data.drop(columns='address'))"
   ]
  },
  {
   "cell_type": "code",
   "execution_count": 184,
   "metadata": {
    "deletable": false,
    "editable": false,
    "nbgrader": {
     "cell_type": "code",
     "checksum": "98d25baeb42eaeb2701f09f42c8c84c5",
     "grade": true,
     "grade_id": "problem_1_join_test",
     "locked": true,
     "points": 1,
     "schema_version": 3,
     "solution": false
    }
   },
   "outputs": [
    {
     "name": "stdout",
     "output_type": "stream",
     "text": [
      "                           geometry  \\\n",
      "0  POINT (25504598.602 6677662.109)   \n",
      "1  POINT (25496566.028 6672933.128)   \n",
      "2  POINT (25485504.300 6671938.465)   \n",
      "3  POINT (25489593.436 6678411.568)   \n",
      "4  POINT (25498893.192 6674916.094)   \n",
      "\n",
      "                                             address         id         name  \n",
      "0  Kauppakeskus Itis, 1-7, Itäkatu, Itäkeskus, Va...    6188896         Itis  \n",
      "1  Forum, Mannerheimintie, Keskusta, Kluuvi, Etel...  289767497        Forum  \n",
      "2  Ison Omenan kirjasto, 1, Suomenlahdentie, Nuot...  280210331  Ison Omenan  \n",
      "3  Kauppakeskus Sello, Linnatullinkatu, Etelä-Lep...    7752187        Sello  \n",
      "4  Stadin Kebab, 5, Hermannin rantatie, Kalasatam...  626938281         REDI  \n"
     ]
    }
   ],
   "source": [
    "#NON-EDITABLE TEST CELL\n",
    "# Check the join output\n",
    "print(geodata.head())"
   ]
  },
  {
   "cell_type": "markdown",
   "metadata": {},
   "source": [
    "- Save the output as a Shapefile called `shopping_centers.shp` "
   ]
  },
  {
   "cell_type": "code",
   "execution_count": 185,
   "metadata": {
    "deletable": false,
    "nbgrader": {
     "cell_type": "code",
     "checksum": "b629dc394afb0d2df49c16b3dd227f50",
     "grade": false,
     "grade_id": "save_data",
     "locked": false,
     "schema_version": 3,
     "solution": true
    }
   },
   "outputs": [],
   "source": [
    "# Define output filepath\n",
    "out_fp = 'data/shopping_centers.shp'\n",
    "\n",
    "geodata.to_file(out_fp)"
   ]
  },
  {
   "cell_type": "code",
   "execution_count": 186,
   "metadata": {
    "deletable": false,
    "editable": false,
    "nbgrader": {
     "cell_type": "code",
     "checksum": "80aac786841c50c2fd08ca078bc13a56",
     "grade": true,
     "grade_id": "problem_1_save_data_test",
     "locked": true,
     "points": 0.5,
     "schema_version": 3,
     "solution": false
    }
   },
   "outputs": [
    {
     "name": "stdout",
     "output_type": "stream",
     "text": [
      "Geocoded output is stored in this file: data/shopping_centers.shp\n"
     ]
    }
   ],
   "source": [
    "#NON-EDITABLE TEST CELL\n",
    "# Print info about output file\n",
    "print(\"Geocoded output is stored in this file:\", out_fp)"
   ]
  },
  {
   "cell_type": "markdown",
   "metadata": {},
   "source": [
    "## Problem 2: Create buffers around shopping centers (5 points)\n",
    "\n",
    "Let's continue with our case study and calculate a 1.5 km buffer around the geocoded points. \n",
    "\n",
    "\n",
    "- Start by creating a new column called `buffer` to ``geodata`` GeoDataFrame:"
   ]
  },
  {
   "cell_type": "code",
   "execution_count": 187,
   "metadata": {
    "deletable": false,
    "nbgrader": {
     "cell_type": "code",
     "checksum": "9c602979bc0a9135d9ea750b6a0da28b",
     "grade": false,
     "grade_id": "new_column",
     "locked": false,
     "schema_version": 3,
     "solution": true
    }
   },
   "outputs": [],
   "source": [
    "geodata['buffer'] = None"
   ]
  },
  {
   "cell_type": "markdown",
   "metadata": {},
   "source": [
    "- Calculate a 1.5 km buffer for each geocoded point. Store the buffer geometry in the new `buffer` column.\n",
    "\n",
    "Here, you can use the [GeoDataFrame buffer() method](http://geopandas.org/geometric_manipulations.html#GeoSeries.buffer), which uses Shapely's [buffer](http://toblerity.org/shapely/manual.html#object.buffer) in the bacground. You only need to use the `distance` -parameter, don't worry about the other parameters."
   ]
  },
  {
   "cell_type": "code",
   "execution_count": 188,
   "metadata": {
    "deletable": false,
    "nbgrader": {
     "cell_type": "code",
     "checksum": "7ab6ebd4853d746e89d6f8dcdb569c99",
     "grade": false,
     "grade_id": "buffer",
     "locked": false,
     "schema_version": 3,
     "solution": true
    }
   },
   "outputs": [],
   "source": [
    "geodata['buffer'] = geodata.buffer(distance=1500)"
   ]
  },
  {
   "cell_type": "code",
   "execution_count": 192,
   "metadata": {
    "deletable": false,
    "editable": false,
    "nbgrader": {
     "cell_type": "code",
     "checksum": "e2765a36c4eb2331624d3b990eccfe9f",
     "grade": true,
     "grade_id": "problem_2_column_test",
     "locked": true,
     "points": 1,
     "schema_version": 3,
     "solution": false,
     "task": false
    }
   },
   "outputs": [
    {
     "name": "stdout",
     "output_type": "stream",
     "text": [
      "                           geometry  \\\n",
      "0  POINT (25504598.602 6677662.109)   \n",
      "1  POINT (25496566.028 6672933.128)   \n",
      "2  POINT (25485504.300 6671938.465)   \n",
      "3  POINT (25489593.436 6678411.568)   \n",
      "4  POINT (25498893.192 6674916.094)   \n",
      "\n",
      "                                             address         id         name  \\\n",
      "0  Kauppakeskus Itis, 1-7, Itäkatu, Itäkeskus, Va...    6188896         Itis   \n",
      "1  Forum, Mannerheimintie, Keskusta, Kluuvi, Etel...  289767497        Forum   \n",
      "2  Ison Omenan kirjasto, 1, Suomenlahdentie, Nuot...  280210331  Ison Omenan   \n",
      "3  Kauppakeskus Sello, Linnatullinkatu, Etelä-Lep...    7752187        Sello   \n",
      "4  Stadin Kebab, 5, Hermannin rantatie, Kalasatam...  626938281         REDI   \n",
      "\n",
      "                                              buffer  \n",
      "0  POLYGON ((25506098.602 6677662.109, 25506091.3...  \n",
      "1  POLYGON ((25498066.028 6672933.128, 25498058.8...  \n",
      "2  POLYGON ((25487004.300 6671938.465, 25486997.0...  \n",
      "3  POLYGON ((25491093.436 6678411.568, 25491086.2...  \n",
      "4  POLYGON ((25500393.192 6674916.094, 25500385.9...  \n"
     ]
    }
   ],
   "source": [
    "#NON-EDITABLE TEST CELL\n",
    "print(geodata.head())"
   ]
  },
  {
   "cell_type": "code",
   "execution_count": 193,
   "metadata": {
    "deletable": false,
    "editable": false,
    "nbgrader": {
     "cell_type": "code",
     "checksum": "3aa92b08ec2320d792f9de905622df3d",
     "grade": true,
     "grade_id": "problem_2_shape_test",
     "locked": true,
     "points": 1,
     "schema_version": 3,
     "solution": false,
     "task": false
    }
   },
   "outputs": [
    {
     "name": "stdout",
     "output_type": "stream",
     "text": [
      "<class 'shapely.geometry.polygon.Polygon'>\n"
     ]
    }
   ],
   "source": [
    "#NON-EDITABLE TEST CELL\n",
    "# Check the data type of the first value in the buffer-column\n",
    "print(type(geodata.at[0,'buffer']))"
   ]
  },
  {
   "cell_type": "code",
   "execution_count": 194,
   "metadata": {
    "deletable": false,
    "editable": false,
    "nbgrader": {
     "cell_type": "code",
     "checksum": "d6e0fe9059fff655e76e4ca36a024253",
     "grade": true,
     "grade_id": "problem_2_buffer_test",
     "locked": true,
     "points": 2,
     "schema_version": 3,
     "solution": false
    }
   },
   "outputs": [
    {
     "name": "stdout",
     "output_type": "stream",
     "text": [
      "0    7.0\n",
      "1    7.0\n",
      "2    7.0\n",
      "3    7.0\n",
      "4    7.0\n",
      "5    7.0\n",
      "dtype: float64\n"
     ]
    }
   ],
   "source": [
    "#NON-EDITABLE TEST CELL\n",
    "# Check the areas of your buffers in km^2\n",
    "print(round(gpd.GeoSeries(geodata[\"buffer\"]).area / 1000000))"
   ]
  },
  {
   "cell_type": "markdown",
   "metadata": {},
   "source": [
    "- Replace the values in `geometry` column with the values of `buffer` column:"
   ]
  },
  {
   "cell_type": "code",
   "execution_count": 196,
   "metadata": {
    "deletable": false,
    "nbgrader": {
     "cell_type": "code",
     "checksum": "bdecc7b62de965a4d86ecccf28de49b2",
     "grade": false,
     "grade_id": "geometry",
     "locked": false,
     "schema_version": 3,
     "solution": true
    }
   },
   "outputs": [],
   "source": [
    "geodata['geometry'] = geodata['buffer']"
   ]
  },
  {
   "cell_type": "code",
   "execution_count": 197,
   "metadata": {
    "deletable": false,
    "editable": false,
    "nbgrader": {
     "cell_type": "code",
     "checksum": "47a972c42e423c1597440885fa571d34",
     "grade": true,
     "grade_id": "problem_2_geometry_test",
     "locked": true,
     "points": 1,
     "schema_version": 3,
     "solution": false
    }
   },
   "outputs": [
    {
     "name": "stdout",
     "output_type": "stream",
     "text": [
      "                                            geometry  \\\n",
      "0  POLYGON ((25506098.602 6677662.109, 25506091.3...   \n",
      "1  POLYGON ((25498066.028 6672933.128, 25498058.8...   \n",
      "2  POLYGON ((25487004.300 6671938.465, 25486997.0...   \n",
      "3  POLYGON ((25491093.436 6678411.568, 25491086.2...   \n",
      "4  POLYGON ((25500393.192 6674916.094, 25500385.9...   \n",
      "\n",
      "                                             address         id         name  \\\n",
      "0  Kauppakeskus Itis, 1-7, Itäkatu, Itäkeskus, Va...    6188896         Itis   \n",
      "1  Forum, Mannerheimintie, Keskusta, Kluuvi, Etel...  289767497        Forum   \n",
      "2  Ison Omenan kirjasto, 1, Suomenlahdentie, Nuot...  280210331  Ison Omenan   \n",
      "3  Kauppakeskus Sello, Linnatullinkatu, Etelä-Lep...    7752187        Sello   \n",
      "4  Stadin Kebab, 5, Hermannin rantatie, Kalasatam...  626938281         REDI   \n",
      "\n",
      "                                              buffer  \n",
      "0  POLYGON ((25506098.602 6677662.109, 25506091.3...  \n",
      "1  POLYGON ((25498066.028 6672933.128, 25498058.8...  \n",
      "2  POLYGON ((25487004.300 6671938.465, 25486997.0...  \n",
      "3  POLYGON ((25491093.436 6678411.568, 25491086.2...  \n",
      "4  POLYGON ((25500393.192 6674916.094, 25500385.9...  \n"
     ]
    }
   ],
   "source": [
    "#NON-EDITABLE TEST CELL\n",
    "print(geodata.head())"
   ]
  },
  {
   "cell_type": "markdown",
   "metadata": {},
   "source": [
    "Optional: at this point, you can drop out unnecessary columns from the geodataframe. In the next problem, \n",
    "we will only need these columns: `'id', 'name', 'geometry'`"
   ]
  },
  {
   "cell_type": "code",
   "execution_count": 198,
   "metadata": {},
   "outputs": [],
   "source": [
    "geodata.drop(columns=['address', 'buffer'], inplace=True)"
   ]
  },
  {
   "cell_type": "markdown",
   "metadata": {},
   "source": [
    "## Problem 3: How many people live near shopping centers? (5 points)\n",
    "\n",
    "Last step in our analysis is to make a spatial join between our buffer layer and population data in order to find out **how many people live near each shopping center**. We will use the same data as we did during [lesson 3](https://automating-gis-processes.github.io/site/notebooks/L3/spatial-join.html#Spatial-join); **a Population Grid** that is available via the HSY wfs. \n",
    "\n",
    "Alternatively, you can also download the data from the [Helsinki Region Infoshare (HRI)](https://www.hsy.fi/fi/asiantuntijalle/avoindata/Sivut/AvoinData.aspx?dataID=7) as a shapefile (using wget).\n",
    "\n",
    "The coordinate reference system of the population grid is **ETRS GK-25 (EPSG:3879)**.\n",
    "\n",
    "\n",
    "**Steps:**\n",
    "\n",
    "- Read the population grid into a geodataframe\n",
    "\n",
    "- Select only the useful columns from the population grid: ``'asukkaita'`` (=population count per grid square) and ``'geometry'`` \n",
    "\n",
    "- Make a spatial join between your buffered point layer and population grid layer. Join the information now from buffer layer **into the population grid layer**\n",
    "\n",
    "- Group the joined layer by shopping center index\n",
    "\n",
    "- Calculate the sum of population living within 1.5 km for each shopping center.\n",
    "\n",
    "**Finally:**\n",
    "\n",
    "- Print out the population living within 1.5 km from each shopping center:\n",
    "\n",
    "     - Itis\n",
    "     - Forum\n",
    "     - Iso-omena\n",
    "     - Sello\n",
    "     - Jumbo\n",
    "     - REDI\n",
    "     - Tripla\n",
    "     \n",
    "**Final print out should contain both the shopping center name and population count**, for example: `25858 people live within 1.5 km from Iso-Omena`.\n",
    "\n",
    "*Feel free to divide your solution into several codeblocks! Remember to comment your code  :)*"
   ]
  },
  {
   "cell_type": "code",
   "execution_count": 200,
   "metadata": {},
   "outputs": [
    {
     "name": "stdout",
     "output_type": "stream",
     "text": [
      "--2020-03-27 11:35:31--  https://www.hsy.fi/sites/AvoinData/AvoinData/SYT/Tietoyhteistyoyksikko/Shape%20(Esri)/V%C3%A4est%C3%B6tietoruudukko/Vaestotietoruudukko_2018_shp.zip\n",
      "Resolvendo www.hsy.fi (www.hsy.fi)... 193.64.12.7\n",
      "Conectando-se a www.hsy.fi (www.hsy.fi)|193.64.12.7|:443... conectado.\n",
      "A requisição HTTP foi enviada, aguardando resposta... 200 OK\n",
      "Tamanho: 256769 (251K) [application/x-zip-compressed]\n",
      "Salvando em: “data/Vaestotietoruudukko_2018_shp.zip”\n",
      "\n",
      "data/Vaestotietoruu 100%[===================>] 250,75K   200KB/s    em 1,3s    \n",
      "\n",
      "2020-03-27 11:35:33 (200 KB/s) - “data/Vaestotietoruudukko_2018_shp.zip” salvo [256769/256769]\n",
      "\n",
      "Archive:  data/Vaestotietoruudukko_2018_shp.zip\n",
      "replace data/population/Vaestoruudukko_2018.dbf? [y]es, [n]o, [A]ll, [N]one, [r]ename: ^C\n"
     ]
    }
   ],
   "source": [
    "# !wget -O 'data/Vaestotietoruudukko_2018_shp.zip' 'https://www.hsy.fi/sites/AvoinData/AvoinData/SYT/Tietoyhteistyoyksikko/Shape%20(Esri)/V%C3%A4est%C3%B6tietoruudukko/Vaestotietoruudukko_2018_shp.zip'\n",
    "# !unzip 'data/Vaestotietoruudukko_2018_shp.zip' -d 'data/population'"
   ]
  },
  {
   "cell_type": "code",
   "execution_count": 201,
   "metadata": {},
   "outputs": [
    {
     "data": {
      "text/html": [
       "<div>\n",
       "<style scoped>\n",
       "    .dataframe tbody tr th:only-of-type {\n",
       "        vertical-align: middle;\n",
       "    }\n",
       "\n",
       "    .dataframe tbody tr th {\n",
       "        vertical-align: top;\n",
       "    }\n",
       "\n",
       "    .dataframe thead th {\n",
       "        text-align: right;\n",
       "    }\n",
       "</style>\n",
       "<table border=\"1\" class=\"dataframe\">\n",
       "  <thead>\n",
       "    <tr style=\"text-align: right;\">\n",
       "      <th></th>\n",
       "      <th>geometry</th>\n",
       "      <th>id</th>\n",
       "      <th>name</th>\n",
       "    </tr>\n",
       "  </thead>\n",
       "  <tbody>\n",
       "    <tr>\n",
       "      <th>0</th>\n",
       "      <td>POLYGON ((25506098.602 6677662.109, 25506091.3...</td>\n",
       "      <td>6188896</td>\n",
       "      <td>Itis</td>\n",
       "    </tr>\n",
       "    <tr>\n",
       "      <th>1</th>\n",
       "      <td>POLYGON ((25498066.028 6672933.128, 25498058.8...</td>\n",
       "      <td>289767497</td>\n",
       "      <td>Forum</td>\n",
       "    </tr>\n",
       "    <tr>\n",
       "      <th>2</th>\n",
       "      <td>POLYGON ((25487004.300 6671938.465, 25486997.0...</td>\n",
       "      <td>280210331</td>\n",
       "      <td>Ison Omenan</td>\n",
       "    </tr>\n",
       "    <tr>\n",
       "      <th>3</th>\n",
       "      <td>POLYGON ((25491093.436 6678411.568, 25491086.2...</td>\n",
       "      <td>7752187</td>\n",
       "      <td>Sello</td>\n",
       "    </tr>\n",
       "    <tr>\n",
       "      <th>4</th>\n",
       "      <td>POLYGON ((25500393.192 6674916.094, 25500385.9...</td>\n",
       "      <td>626938281</td>\n",
       "      <td>REDI</td>\n",
       "    </tr>\n",
       "    <tr>\n",
       "      <th>5</th>\n",
       "      <td>POLYGON ((25497693.557 6676208.169, 25497686.3...</td>\n",
       "      <td>348149445</td>\n",
       "      <td>Jumbo</td>\n",
       "    </tr>\n",
       "  </tbody>\n",
       "</table>\n",
       "</div>"
      ],
      "text/plain": [
       "                                            geometry         id         name\n",
       "0  POLYGON ((25506098.602 6677662.109, 25506091.3...    6188896         Itis\n",
       "1  POLYGON ((25498066.028 6672933.128, 25498058.8...  289767497        Forum\n",
       "2  POLYGON ((25487004.300 6671938.465, 25486997.0...  280210331  Ison Omenan\n",
       "3  POLYGON ((25491093.436 6678411.568, 25491086.2...    7752187        Sello\n",
       "4  POLYGON ((25500393.192 6674916.094, 25500385.9...  626938281         REDI\n",
       "5  POLYGON ((25497693.557 6676208.169, 25497686.3...  348149445        Jumbo"
      ]
     },
     "execution_count": 201,
     "metadata": {},
     "output_type": "execute_result"
    }
   ],
   "source": [
    "geodata"
   ]
  },
  {
   "cell_type": "code",
   "execution_count": 202,
   "metadata": {
    "deletable": false,
    "nbgrader": {
     "cell_type": "code",
     "checksum": "ce4513d664d7851d8da8b9d648b75bf7",
     "grade": false,
     "grade_id": "read_wfs",
     "locked": false,
     "schema_version": 3,
     "solution": true,
     "task": false
    }
   },
   "outputs": [
    {
     "data": {
      "text/plain": [
       "<Projected CRS: PROJCS[\"ETRS89_ETRS_GK25FIN_2010\",GEOGCS[\"ETRS89\", ...>\n",
       "Name: ETRS89_ETRS_GK25FIN_2010\n",
       "Axis Info [cartesian]:\n",
       "- [east]: Easting (metre)\n",
       "- [north]: Northing (metre)\n",
       "Area of Use:\n",
       "- undefined\n",
       "Coordinate Operation:\n",
       "- name: unnamed\n",
       "- method: Transverse Mercator\n",
       "Datum: European Terrestrial Reference System 1989\n",
       "- Ellipsoid: Geodetic_Reference_System_of_1980\n",
       "- Prime Meridian: Greenwich"
      ]
     },
     "execution_count": 202,
     "metadata": {},
     "output_type": "execute_result"
    }
   ],
   "source": [
    "pop = gpd.read_file('data/population/Vaestoruudukko_2018.shp')\n",
    "pop.crs"
   ]
  },
  {
   "cell_type": "code",
   "execution_count": 215,
   "metadata": {},
   "outputs": [],
   "source": [
    "pop.crs = CRS(geodata.crs).to_wkt()"
   ]
  },
  {
   "cell_type": "code",
   "execution_count": 216,
   "metadata": {},
   "outputs": [
    {
     "data": {
      "text/html": [
       "<div>\n",
       "<style scoped>\n",
       "    .dataframe tbody tr th:only-of-type {\n",
       "        vertical-align: middle;\n",
       "    }\n",
       "\n",
       "    .dataframe tbody tr th {\n",
       "        vertical-align: top;\n",
       "    }\n",
       "\n",
       "    .dataframe thead th {\n",
       "        text-align: right;\n",
       "    }\n",
       "</style>\n",
       "<table border=\"1\" class=\"dataframe\">\n",
       "  <thead>\n",
       "    <tr style=\"text-align: right;\">\n",
       "      <th></th>\n",
       "      <th>pop18</th>\n",
       "      <th>geometry</th>\n",
       "    </tr>\n",
       "  </thead>\n",
       "  <tbody>\n",
       "    <tr>\n",
       "      <th>0</th>\n",
       "      <td>9</td>\n",
       "      <td>POLYGON Z ((25472499.995 6689749.005 0.000, 25...</td>\n",
       "    </tr>\n",
       "    <tr>\n",
       "      <th>1</th>\n",
       "      <td>5</td>\n",
       "      <td>POLYGON Z ((25472499.995 6685998.998 0.000, 25...</td>\n",
       "    </tr>\n",
       "    <tr>\n",
       "      <th>2</th>\n",
       "      <td>8</td>\n",
       "      <td>POLYGON Z ((25472499.995 6684249.004 0.000, 25...</td>\n",
       "    </tr>\n",
       "    <tr>\n",
       "      <th>3</th>\n",
       "      <td>5</td>\n",
       "      <td>POLYGON Z ((25472499.995 6683999.005 0.000, 25...</td>\n",
       "    </tr>\n",
       "    <tr>\n",
       "      <th>4</th>\n",
       "      <td>11</td>\n",
       "      <td>POLYGON Z ((25472499.995 6682998.998 0.000, 25...</td>\n",
       "    </tr>\n",
       "  </tbody>\n",
       "</table>\n",
       "</div>"
      ],
      "text/plain": [
       "   pop18                                           geometry\n",
       "0      9  POLYGON Z ((25472499.995 6689749.005 0.000, 25...\n",
       "1      5  POLYGON Z ((25472499.995 6685998.998 0.000, 25...\n",
       "2      8  POLYGON Z ((25472499.995 6684249.004 0.000, 25...\n",
       "3      5  POLYGON Z ((25472499.995 6683999.005 0.000, 25...\n",
       "4     11  POLYGON Z ((25472499.995 6682998.998 0.000, 25..."
      ]
     },
     "execution_count": 216,
     "metadata": {},
     "output_type": "execute_result"
    }
   ],
   "source": [
    "pop = pop.rename(columns={'ASUKKAITA': 'pop18'})\n",
    "pop = pop[['pop18', 'geometry']]\n",
    "pop.head()"
   ]
  },
  {
   "cell_type": "code",
   "execution_count": 217,
   "metadata": {},
   "outputs": [
    {
     "data": {
      "text/plain": [
       "True"
      ]
     },
     "execution_count": 217,
     "metadata": {},
     "output_type": "execute_result"
    }
   ],
   "source": [
    "geodata.crs == pop.crs"
   ]
  },
  {
   "cell_type": "code",
   "execution_count": 219,
   "metadata": {},
   "outputs": [
    {
     "data": {
      "image/png": "[encoded data removed]",
      "text/plain": [
       "<Figure size 1080x576 with 1 Axes>"
      ]
     },
     "metadata": {
      "needs_background": "light"
     },
     "output_type": "display_data"
    }
   ],
   "source": [
    "fig, ax = plt.subplots(figsize=(15,8))\n",
    "\n",
    "# Plot population grid\n",
    "pop.plot(ax=ax)\n",
    "\n",
    "# Plot points\n",
    "geodata.plot(ax=ax, color='red', markersize=15);"
   ]
  },
  {
   "cell_type": "code",
   "execution_count": 220,
   "metadata": {
    "deletable": false,
    "editable": false,
    "nbgrader": {
     "cell_type": "code",
     "checksum": "8fe4f1ecd4466cf975714202c832be7e",
     "grade": true,
     "grade_id": "problem_3_read_data_test",
     "locked": true,
     "points": 1,
     "schema_version": 3,
     "solution": false,
     "task": false
    }
   },
   "outputs": [
    {
     "name": "stdout",
     "output_type": "stream",
     "text": [
      "Number of rows: 5832\n",
      "   pop18                                           geometry\n",
      "0      9  POLYGON Z ((25472499.995 6689749.005 0.000, 25...\n",
      "1      5  POLYGON Z ((25472499.995 6685998.998 0.000, 25...\n",
      "2      8  POLYGON Z ((25472499.995 6684249.004 0.000, 25...\n"
     ]
    }
   ],
   "source": [
    "#NON-EDITABLE TEST CELL\n",
    "# Check your input data\n",
    "print(\"Number of rows:\", len(pop))\n",
    "print(pop.head(3))"
   ]
  },
  {
   "cell_type": "code",
   "execution_count": 226,
   "metadata": {
    "deletable": false,
    "nbgrader": {
     "cell_type": "code",
     "checksum": "6e1a19296e4d4bbdd868d231ed20505b",
     "grade": false,
     "grade_id": "spatial_join",
     "locked": false,
     "schema_version": 3,
     "solution": true
    }
   },
   "outputs": [],
   "source": [
    "# Create a spatial join between grid layer and buffer layer. \n",
    "join = gpd.sjoin(pop, geodata, op='intersects')"
   ]
  },
  {
   "cell_type": "code",
   "execution_count": 227,
   "metadata": {},
   "outputs": [
    {
     "data": {
      "text/html": [
       "<div>\n",
       "<style scoped>\n",
       "    .dataframe tbody tr th:only-of-type {\n",
       "        vertical-align: middle;\n",
       "    }\n",
       "\n",
       "    .dataframe tbody tr th {\n",
       "        vertical-align: top;\n",
       "    }\n",
       "\n",
       "    .dataframe thead th {\n",
       "        text-align: right;\n",
       "    }\n",
       "</style>\n",
       "<table border=\"1\" class=\"dataframe\">\n",
       "  <thead>\n",
       "    <tr style=\"text-align: right;\">\n",
       "      <th></th>\n",
       "      <th>pop18</th>\n",
       "      <th>geometry</th>\n",
       "      <th>index_right</th>\n",
       "      <th>id</th>\n",
       "      <th>name</th>\n",
       "    </tr>\n",
       "  </thead>\n",
       "  <tbody>\n",
       "    <tr>\n",
       "      <th>1097</th>\n",
       "      <td>118</td>\n",
       "      <td>POLYGON Z ((25483999.994 6672749.004 0.000, 25...</td>\n",
       "      <td>2</td>\n",
       "      <td>280210331</td>\n",
       "      <td>Ison Omenan</td>\n",
       "    </tr>\n",
       "    <tr>\n",
       "      <th>1098</th>\n",
       "      <td>178</td>\n",
       "      <td>POLYGON Z ((25483999.994 6672499.005 0.000, 25...</td>\n",
       "      <td>2</td>\n",
       "      <td>280210331</td>\n",
       "      <td>Ison Omenan</td>\n",
       "    </tr>\n",
       "    <tr>\n",
       "      <th>1099</th>\n",
       "      <td>42</td>\n",
       "      <td>POLYGON Z ((25483999.994 6672249.006 0.000, 25...</td>\n",
       "      <td>2</td>\n",
       "      <td>280210331</td>\n",
       "      <td>Ison Omenan</td>\n",
       "    </tr>\n",
       "    <tr>\n",
       "      <th>1152</th>\n",
       "      <td>124</td>\n",
       "      <td>POLYGON Z ((25484250.000 6672999.003 0.000, 25...</td>\n",
       "      <td>2</td>\n",
       "      <td>280210331</td>\n",
       "      <td>Ison Omenan</td>\n",
       "    </tr>\n",
       "    <tr>\n",
       "      <th>1153</th>\n",
       "      <td>139</td>\n",
       "      <td>POLYGON Z ((25484250.000 6672749.004 0.000, 25...</td>\n",
       "      <td>2</td>\n",
       "      <td>280210331</td>\n",
       "      <td>Ison Omenan</td>\n",
       "    </tr>\n",
       "    <tr>\n",
       "      <th>...</th>\n",
       "      <td>...</td>\n",
       "      <td>...</td>\n",
       "      <td>...</td>\n",
       "      <td>...</td>\n",
       "      <td>...</td>\n",
       "    </tr>\n",
       "    <tr>\n",
       "      <th>5339</th>\n",
       "      <td>369</td>\n",
       "      <td>POLYGON Z ((25505749.995 6677748.997 0.000, 25...</td>\n",
       "      <td>0</td>\n",
       "      <td>6188896</td>\n",
       "      <td>Itis</td>\n",
       "    </tr>\n",
       "    <tr>\n",
       "      <th>5340</th>\n",
       "      <td>142</td>\n",
       "      <td>POLYGON Z ((25505749.995 6677498.998 0.000, 25...</td>\n",
       "      <td>0</td>\n",
       "      <td>6188896</td>\n",
       "      <td>Itis</td>\n",
       "    </tr>\n",
       "    <tr>\n",
       "      <th>5341</th>\n",
       "      <td>192</td>\n",
       "      <td>POLYGON Z ((25505749.995 6677248.998 0.000, 25...</td>\n",
       "      <td>0</td>\n",
       "      <td>6188896</td>\n",
       "      <td>Itis</td>\n",
       "    </tr>\n",
       "    <tr>\n",
       "      <th>5387</th>\n",
       "      <td>145</td>\n",
       "      <td>POLYGON Z ((25505999.993 6677999.006 0.000, 25...</td>\n",
       "      <td>0</td>\n",
       "      <td>6188896</td>\n",
       "      <td>Itis</td>\n",
       "    </tr>\n",
       "    <tr>\n",
       "      <th>5388</th>\n",
       "      <td>106</td>\n",
       "      <td>POLYGON Z ((25505999.993 6677748.997 0.000, 25...</td>\n",
       "      <td>0</td>\n",
       "      <td>6188896</td>\n",
       "      <td>Itis</td>\n",
       "    </tr>\n",
       "  </tbody>\n",
       "</table>\n",
       "<p>577 rows × 5 columns</p>\n",
       "</div>"
      ],
      "text/plain": [
       "      pop18                                           geometry  index_right  \\\n",
       "1097    118  POLYGON Z ((25483999.994 6672749.004 0.000, 25...            2   \n",
       "1098    178  POLYGON Z ((25483999.994 6672499.005 0.000, 25...            2   \n",
       "1099     42  POLYGON Z ((25483999.994 6672249.006 0.000, 25...            2   \n",
       "1152    124  POLYGON Z ((25484250.000 6672999.003 0.000, 25...            2   \n",
       "1153    139  POLYGON Z ((25484250.000 6672749.004 0.000, 25...            2   \n",
       "...     ...                                                ...          ...   \n",
       "5339    369  POLYGON Z ((25505749.995 6677748.997 0.000, 25...            0   \n",
       "5340    142  POLYGON Z ((25505749.995 6677498.998 0.000, 25...            0   \n",
       "5341    192  POLYGON Z ((25505749.995 6677248.998 0.000, 25...            0   \n",
       "5387    145  POLYGON Z ((25505999.993 6677999.006 0.000, 25...            0   \n",
       "5388    106  POLYGON Z ((25505999.993 6677748.997 0.000, 25...            0   \n",
       "\n",
       "             id         name  \n",
       "1097  280210331  Ison Omenan  \n",
       "1098  280210331  Ison Omenan  \n",
       "1099  280210331  Ison Omenan  \n",
       "1152  280210331  Ison Omenan  \n",
       "1153  280210331  Ison Omenan  \n",
       "...         ...          ...  \n",
       "5339    6188896         Itis  \n",
       "5340    6188896         Itis  \n",
       "5341    6188896         Itis  \n",
       "5387    6188896         Itis  \n",
       "5388    6188896         Itis  \n",
       "\n",
       "[577 rows x 5 columns]"
      ]
     },
     "execution_count": 227,
     "metadata": {},
     "output_type": "execute_result"
    }
   ],
   "source": [
    "join"
   ]
  },
  {
   "cell_type": "code",
   "execution_count": 233,
   "metadata": {
    "deletable": false,
    "nbgrader": {
     "cell_type": "code",
     "checksum": "31380c3846a2b817d025fdd218289113",
     "grade": false,
     "grade_id": "print_results",
     "locked": false,
     "schema_version": 3,
     "solution": true,
     "task": false
    }
   },
   "outputs": [
    {
     "data": {
      "text/html": [
       "<div>\n",
       "<style scoped>\n",
       "    .dataframe tbody tr th:only-of-type {\n",
       "        vertical-align: middle;\n",
       "    }\n",
       "\n",
       "    .dataframe tbody tr th {\n",
       "        vertical-align: top;\n",
       "    }\n",
       "\n",
       "    .dataframe thead th {\n",
       "        text-align: right;\n",
       "    }\n",
       "</style>\n",
       "<table border=\"1\" class=\"dataframe\">\n",
       "  <thead>\n",
       "    <tr style=\"text-align: right;\">\n",
       "      <th></th>\n",
       "      <th>pop18</th>\n",
       "    </tr>\n",
       "    <tr>\n",
       "      <th>name</th>\n",
       "      <th></th>\n",
       "    </tr>\n",
       "  </thead>\n",
       "  <tbody>\n",
       "    <tr>\n",
       "      <th>Forum</th>\n",
       "      <td>80969</td>\n",
       "    </tr>\n",
       "    <tr>\n",
       "      <th>Ison Omenan</th>\n",
       "      <td>32763</td>\n",
       "    </tr>\n",
       "    <tr>\n",
       "      <th>Itis</th>\n",
       "      <td>29199</td>\n",
       "    </tr>\n",
       "    <tr>\n",
       "      <th>Jumbo</th>\n",
       "      <td>41767</td>\n",
       "    </tr>\n",
       "    <tr>\n",
       "      <th>REDI</th>\n",
       "      <td>40081</td>\n",
       "    </tr>\n",
       "    <tr>\n",
       "      <th>Sello</th>\n",
       "      <td>28675</td>\n",
       "    </tr>\n",
       "  </tbody>\n",
       "</table>\n",
       "</div>"
      ],
      "text/plain": [
       "             pop18\n",
       "name              \n",
       "Forum        80969\n",
       "Ison Omenan  32763\n",
       "Itis         29199\n",
       "Jumbo        41767\n",
       "REDI         40081\n",
       "Sello        28675"
      ]
     },
     "execution_count": 233,
     "metadata": {},
     "output_type": "execute_result"
    }
   ],
   "source": [
    "# Report how many people live within 1.5 km distance from each shopping center\n",
    "join.groupby('name').agg({ 'pop18': 'sum' })"
   ]
  },
  {
   "cell_type": "markdown",
   "metadata": {},
   "source": [
    "**Reflections:**\n",
    "    \n",
    "- How challenging did you find problems 1-3 (on scale to 1-5), and why?\n",
    "- What was easy?\n",
    "- What was difficult?"
   ]
  },
  {
   "cell_type": "markdown",
   "metadata": {
    "deletable": false,
    "nbgrader": {
     "cell_type": "markdown",
     "checksum": "ae8c161a5ec09a095453240cd41b6da8",
     "grade": true,
     "grade_id": "problem_3_Check_problem_3",
     "locked": false,
     "points": 4,
     "schema_version": 3,
     "solution": true
    }
   },
   "source": [
    "YOUR ANSWER HERE"
   ]
  },
  {
   "cell_type": "markdown",
   "metadata": {},
   "source": [
    "Well done! Now you can continue to [problem 4](Exercise-3-Problem-4.ipynb)"
   ]
  }
 ],
 "metadata": {
  "anaconda-cloud": {},
  "kernelspec": {
   "display_name": "Python 3",
   "language": "python",
   "name": "python3"
  },
  "language_info": {
   "codemirror_mode": {
    "name": "ipython",
    "version": 3
   },
   "file_extension": ".py",
   "mimetype": "text/x-python",
   "name": "python",
   "nbconvert_exporter": "python",
   "pygments_lexer": "ipython3",
   "version": "3.8.2"
  }
 },
 "nbformat": 4,
 "nbformat_minor": 4
}
