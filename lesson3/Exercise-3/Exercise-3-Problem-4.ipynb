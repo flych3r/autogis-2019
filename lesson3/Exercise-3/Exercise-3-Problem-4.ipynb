{
 "cells": [
  {
   "cell_type": "code",
   "execution_count": 66,
   "metadata": {},
   "outputs": [],
   "source": [
    "import pandas as pd\n",
    "import geopandas as gpd\n",
    "import matplotlib.pyplot as plt\n",
    "from pyproj import CRS\n",
    "from shapely.ops import nearest_points"
   ]
  },
  {
   "cell_type": "markdown",
   "metadata": {},
   "source": [
    "## Problem 4: What is the closest shopping center from your home / work? (5 points)\n",
    "\n",
    "In the last problem you should find out the closest shopping center from two different locations a) your home and b) work place. \n",
    "\n",
    "**Steps**:\n",
    "\n",
    " - Create a txt-file called `activity_locations.txt` (use same formatting as in Problem 1) with two columns:\n",
    "    - `id`: unique id for each row\n",
    "    - `addr`:  address of your work and home (or any two addresses in the Helsinki Region.)\n",
    "    \n",
    "Save the text file into this repository.\n",
    "    \n",
    " - Read those addresses using pandas and geocode the addresses.\n",
    " - Find out the nearest shopping center to these points using Shapely `nearest_points`.\n",
    " - Print out the name of the shopping center that is nearest to a) home and b) work. For example: `Shopping center closest to home: REDI`."
   ]
  },
  {
   "cell_type": "code",
   "execution_count": 67,
   "metadata": {
    "deletable": false,
    "nbgrader": {
     "cell_type": "code",
     "checksum": "f8d9bb1491a5675d77264cebbf529f88",
     "grade": false,
     "grade_id": "read_data",
     "locked": false,
     "schema_version": 3,
     "solution": true
    }
   },
   "outputs": [],
   "source": [
    "# read in input files\n",
    "places = pd.read_csv('data/activity_locations.txt', sep=';')\n",
    "shoppings = gpd.read_file('data/shopping_centers.shp')"
   ]
  },
  {
   "cell_type": "code",
   "execution_count": 68,
   "metadata": {
    "deletable": false,
    "nbgrader": {
     "cell_type": "code",
     "checksum": "cde51574e6cd404266ead2aad7ac5938",
     "grade": false,
     "grade_id": "geocode",
     "locked": false,
     "schema_version": 3,
     "solution": true,
     "task": false
    }
   },
   "outputs": [],
   "source": [
    "# Geocode activity locations\n",
    "geo = gpd.tools.geocode(places['addr'], provider='nominatim', \n",
    "                        user_agent='autogis_xxx', timeout=4)"
   ]
  },
  {
   "cell_type": "code",
   "execution_count": 70,
   "metadata": {},
   "outputs": [],
   "source": [
    "places = geo.join(places)\n",
    "places.drop(columns=['id', 'addr'], inplace=True)"
   ]
  },
  {
   "cell_type": "code",
   "execution_count": 71,
   "metadata": {
    "deletable": false,
    "nbgrader": {
     "cell_type": "code",
     "checksum": "866e8fe33cb5b2e5f7d3fbecd76130f1",
     "grade": false,
     "grade_id": "check_crs",
     "locked": false,
     "schema_version": 3,
     "solution": true,
     "task": false
    }
   },
   "outputs": [
    {
     "name": "stdout",
     "output_type": "stream",
     "text": [
      "EPSG:4326\n",
      "epsg:3879\n"
     ]
    }
   ],
   "source": [
    "# Check coordinate reference system information (re-project/define if needed)\n",
    "print(places.crs)\n",
    "print(shoppings.crs)"
   ]
  },
  {
   "cell_type": "code",
   "execution_count": 72,
   "metadata": {},
   "outputs": [],
   "source": [
    "places = places.to_crs(epsg=3879)"
   ]
  },
  {
   "cell_type": "code",
   "execution_count": 73,
   "metadata": {
    "deletable": false,
    "nbgrader": {
     "cell_type": "code",
     "checksum": "5c1d055ae749e65f0c63e487b074ad21",
     "grade": false,
     "grade_id": "nearest_points",
     "locked": false,
     "schema_version": 3,
     "solution": true,
     "task": false
    }
   },
   "outputs": [],
   "source": [
    "# Find the closest shopping center for each activity location (closest shopping center from\n",
    "def get_nearest_value(point, other_df, other_points, value_column):\n",
    "    nearest_geoms = nearest_points(point, other_points)\n",
    "    nearest_data = other_df.loc[other_df['geometry'] == nearest_geoms[1], value_column].values[0]\n",
    "    return nearest_data\n",
    "\n",
    "def get_nearest_shopping(row):\n",
    "    shopping = get_nearest_value(row['geometry'], shoppings, shopping_points, 'name')\n",
    "    place = row['place']\n",
    "    return f'Shopping center closest to {place}: {shopping}'"
   ]
  },
  {
   "cell_type": "code",
   "execution_count": 74,
   "metadata": {},
   "outputs": [],
   "source": [
    "shopping_points = shoppings.unary_union\n",
    "closest_shoppings = places.apply(get_nearest_shopping, axis=1).values"
   ]
  },
  {
   "cell_type": "code",
   "execution_count": 75,
   "metadata": {},
   "outputs": [
    {
     "name": "stdout",
     "output_type": "stream",
     "text": [
      "Shopping center closest to home: Itis\n",
      "Shopping center closest to work: Forum\n"
     ]
    }
   ],
   "source": [
    "for c in closest_shoppings:\n",
    "    print(c)"
   ]
  },
  {
   "cell_type": "markdown",
   "metadata": {},
   "source": [
    "Can you think of other application cases for the nearest neighbour analysis?"
   ]
  },
  {
   "cell_type": "code",
   "execution_count": null,
   "metadata": {
    "deletable": false,
    "nbgrader": {
     "cell_type": "code",
     "checksum": "9097d06476510270641179f9a799bad7",
     "grade": true,
     "grade_id": "problem_4_check",
     "locked": false,
     "points": 5,
     "schema_version": 3,
     "solution": true
    }
   },
   "outputs": [],
   "source": [
    "# REPLACE THE ERROR BELOW WITH YOUR OWN CODE\n",
    "raise NotImplementedError()"
   ]
  }
 ],
 "metadata": {
  "anaconda-cloud": {},
  "kernelspec": {
   "display_name": "Python 3",
   "language": "python",
   "name": "python3"
  },
  "language_info": {
   "codemirror_mode": {
    "name": "ipython",
    "version": 3
   },
   "file_extension": ".py",
   "mimetype": "text/x-python",
   "name": "python",
   "nbconvert_exporter": "python",
   "pygments_lexer": "ipython3",
   "version": "3.8.2"
  }
 },
 "nbformat": 4,
 "nbformat_minor": 4
}
