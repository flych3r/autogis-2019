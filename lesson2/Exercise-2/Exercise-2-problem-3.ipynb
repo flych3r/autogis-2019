{
 "cells": [
  {
   "cell_type": "code",
   "execution_count": 35,
   "metadata": {},
   "outputs": [],
   "source": [
    "import geopandas as gpd\n",
    "from pyproj import CRS\n",
    "from shapely.geometry import LineString"
   ]
  },
  {
   "cell_type": "markdown",
   "metadata": {},
   "source": [
    "## Problem 3: How long distance individuals have travelled? (8 points)\n",
    "\n",
    "In this problem the aim is to calculate the distance in meters that the individuals have travelled according the social media posts (Euclidean distances between points). In this problem, we will need the `userid` -column an the points created in the previous problem. You will need the shapefile `Kruger_posts.shp` generated in Problem 2 as input file.\n",
    "\n",
    "Our goal is to answer these questions based on the input data:\n",
    "\n",
    " - What was the shortest distance travelled in meters?\n",
    " - What was the mean distance travelled in meters?\n",
    " - What was the maximum distance travelled in meters?\n",
    "\n",
    "**In your code, you should first:**\n",
    " - Import required modules\n",
    " - Read in the shapefile as a geodataframe called `data`"
   ]
  },
  {
   "cell_type": "code",
   "execution_count": 19,
   "metadata": {
    "deletable": false,
    "nbgrader": {
     "cell_type": "code",
     "checksum": "988845921e1467790d136a8aafbdcfb1",
     "grade": false,
     "grade_id": "read_data",
     "locked": false,
     "schema_version": 3,
     "solution": true
    }
   },
   "outputs": [],
   "source": [
    "data = gpd.read_file('Kruger_posts.shp')"
   ]
  },
  {
   "cell_type": "markdown",
   "metadata": {},
   "source": [
    " - Check the crs of the input data. If this information is missing, set it as epsg:4326 (WGS84).\n",
    " - Reproject the data from WGS84 to `EPSG:32735` -projection which stands for UTM Zone 35S (UTM zone for South Africa) to transform the data into metric system. (don't create a new variable, update the existing variable `data`!)"
   ]
  },
  {
   "cell_type": "code",
   "execution_count": 20,
   "metadata": {
    "deletable": false,
    "nbgrader": {
     "cell_type": "code",
     "checksum": "2f08d863ddefcbdd535aaae138bde86c",
     "grade": false,
     "grade_id": "reproject",
     "locked": false,
     "schema_version": 3,
     "solution": true,
     "task": false
    }
   },
   "outputs": [
    {
     "data": {
      "text/plain": [
       "<Geographic 2D CRS: EPSG:4326>\n",
       "Name: WGS 84\n",
       "Axis Info [ellipsoidal]:\n",
       "- Lat[north]: Geodetic latitude (degree)\n",
       "- Lon[east]: Geodetic longitude (degree)\n",
       "Area of Use:\n",
       "- name: World\n",
       "- bounds: (-180.0, -90.0, 180.0, 90.0)\n",
       "Datum: World Geodetic System 1984\n",
       "- Ellipsoid: WGS 84\n",
       "- Prime Meridian: Greenwich"
      ]
     },
     "execution_count": 20,
     "metadata": {},
     "output_type": "execute_result"
    }
   ],
   "source": [
    "data.crs"
   ]
  },
  {
   "cell_type": "code",
   "execution_count": 21,
   "metadata": {},
   "outputs": [],
   "source": [
    "data = data.to_crs(epsg=32735)"
   ]
  },
  {
   "cell_type": "code",
   "execution_count": 22,
   "metadata": {
    "deletable": false,
    "editable": false,
    "nbgrader": {
     "cell_type": "code",
     "checksum": "af7945d4a1fac737bc0d7da2d248bddb",
     "grade": true,
     "grade_id": "problem_3_gdp_test",
     "locked": true,
     "points": 0.5,
     "schema_version": 3,
     "solution": false
    }
   },
   "outputs": [
    {
     "name": "stdout",
     "output_type": "stream",
     "text": [
      "         lat        lon         timestamp    userid  \\\n",
      "0 -24.980792  31.484633  2015-07-07 03:02  66487960   \n",
      "1 -25.499225  31.508906  2015-07-07 03:18  65281761   \n",
      "2 -24.342578  30.930866  2015-03-07 03:38  90916112   \n",
      "3 -24.854614  31.519718  2015-10-07 05:04  37959089   \n",
      "4 -24.921069  31.520836  2015-10-07 05:19  27793716   \n",
      "\n",
      "                         geometry  \n",
      "0  POINT (952912.890 7229683.258)  \n",
      "1  POINT (953433.223 7172080.632)  \n",
      "2  POINT (898955.144 7302197.408)  \n",
      "3  POINT (956927.218 7243564.942)  \n",
      "4  POINT (956794.955 7236187.926)  \n"
     ]
    }
   ],
   "source": [
    "# NON-EDITABLE CODE CELL FOR TESTING YOUR SOLUTION\n",
    "print(data.head())"
   ]
  },
  {
   "cell_type": "code",
   "execution_count": 23,
   "metadata": {
    "deletable": false,
    "editable": false,
    "nbgrader": {
     "cell_type": "code",
     "checksum": "498786348a23b92458293547750fbad9",
     "grade": true,
     "grade_id": "problem_3_CRS_test",
     "locked": true,
     "points": 1.5,
     "schema_version": 3,
     "solution": false,
     "task": false
    }
   },
   "outputs": [
    {
     "name": "stdout",
     "output_type": "stream",
     "text": [
      "epsg:32735\n"
     ]
    }
   ],
   "source": [
    "# NON-EDITABLE CODE CELL FOR TESTING YOUR SOLUTION\n",
    "# Check that the crs is correct after re-projecting (should be epsg:32735)\n",
    "print(data.crs)"
   ]
  },
  {
   "cell_type": "markdown",
   "metadata": {},
   "source": [
    " - Group the data by userid"
   ]
  },
  {
   "cell_type": "code",
   "execution_count": 24,
   "metadata": {
    "deletable": false,
    "nbgrader": {
     "cell_type": "code",
     "checksum": "6192e1b2610e7991dc92ac6665886bb3",
     "grade": false,
     "grade_id": "group_data",
     "locked": false,
     "schema_version": 3,
     "solution": true,
     "task": false
    }
   },
   "outputs": [],
   "source": [
    "grouped = data.groupby('userid')"
   ]
  },
  {
   "cell_type": "code",
   "execution_count": 25,
   "metadata": {
    "deletable": false,
    "editable": false,
    "nbgrader": {
     "cell_type": "code",
     "checksum": "ec8a3931cb867faa117f893813b4b205",
     "grade": true,
     "grade_id": "problem_3_grouped_test",
     "locked": true,
     "points": 0.5,
     "schema_version": 3,
     "solution": false,
     "task": false
    }
   },
   "outputs": [],
   "source": [
    "# NON-EDITABLE CODE CELL FOR TESTING YOUR SOLUTION\n",
    "assert len(grouped.groups) == data[\"userid\"].nunique(), \"Number of groups should match number of unique users!\""
   ]
  },
  {
   "cell_type": "markdown",
   "metadata": {},
   "source": [
    "**Then:**\n",
    "- Create an empty GeoDataFrame called `movements`\n",
    "- Create a for-loop where you iterate over the grouped object. For each user's data: \n",
    "    - [sort](http://pandas.pydata.org/pandas-docs/stable/generated/pandas.DataFrame.sort_values.html) the rows by timestamp \n",
    "    - create a LineString object based on the user's points\n",
    "    - add the geometry and the userid into the `movements` dataframe (one userid per row). You can achieve this either by using the `.at` indexer, or the `append` method. See hints for more help.\n",
    "- Set the CRS of the ``movements`` GeoDataFrame as ``EPSG:32735`` "
   ]
  },
  {
   "cell_type": "code",
   "execution_count": 33,
   "metadata": {},
   "outputs": [
    {
     "data": {
      "text/html": [
       "<div>\n",
       "<style scoped>\n",
       "    .dataframe tbody tr th:only-of-type {\n",
       "        vertical-align: middle;\n",
       "    }\n",
       "\n",
       "    .dataframe tbody tr th {\n",
       "        vertical-align: top;\n",
       "    }\n",
       "\n",
       "    .dataframe thead th {\n",
       "        text-align: right;\n",
       "    }\n",
       "</style>\n",
       "<table border=\"1\" class=\"dataframe\">\n",
       "  <thead>\n",
       "    <tr style=\"text-align: right;\">\n",
       "      <th></th>\n",
       "      <th>lat</th>\n",
       "      <th>lon</th>\n",
       "      <th>timestamp</th>\n",
       "      <th>userid</th>\n",
       "      <th>geometry</th>\n",
       "    </tr>\n",
       "  </thead>\n",
       "  <tbody>\n",
       "    <tr>\n",
       "      <th>4947</th>\n",
       "      <td>-25.479763</td>\n",
       "      <td>30.894174</td>\n",
       "      <td>2015-01-25 16:19</td>\n",
       "      <td>99995791</td>\n",
       "      <td>POINT (891611.590 7176196.099)</td>\n",
       "    </tr>\n",
       "  </tbody>\n",
       "</table>\n",
       "</div>"
      ],
      "text/plain": [
       "            lat        lon         timestamp    userid  \\\n",
       "4947 -25.479763  30.894174  2015-01-25 16:19  99995791   \n",
       "\n",
       "                            geometry  \n",
       "4947  POINT (891611.590 7176196.099)  "
      ]
     },
     "execution_count": 33,
     "metadata": {},
     "output_type": "execute_result"
    }
   ],
   "source": [
    "group"
   ]
  },
  {
   "cell_type": "code",
   "execution_count": 40,
   "metadata": {
    "deletable": false,
    "nbgrader": {
     "cell_type": "code",
     "checksum": "474c18c655461eeae34816f4a8c79b95",
     "grade": false,
     "grade_id": "create_lines",
     "locked": false,
     "schema_version": 3,
     "solution": true
    }
   },
   "outputs": [],
   "source": [
    "movements = gpd.GeoDataFrame(columns=['geometry'])\n",
    "for key, group in grouped:\n",
    "    group.sort_values(by='timestamp')\n",
    "    traj = group['geometry'].values\n",
    "    if len(traj) >= 2:\n",
    "        trajectory = LineString(traj)\n",
    "        movements.at[key, 'geometry'] = trajectory"
   ]
  },
  {
   "cell_type": "code",
   "execution_count": 41,
   "metadata": {
    "deletable": false,
    "editable": false,
    "nbgrader": {
     "cell_type": "code",
     "checksum": "93faad3176849406a2f5eee31d3a8e91",
     "grade": true,
     "grade_id": "problem_3_movements_tests",
     "locked": true,
     "points": 3,
     "schema_version": 3,
     "solution": false,
     "task": false
    }
   },
   "outputs": [
    {
     "data": {
      "text/html": [
       "<div>\n",
       "<style scoped>\n",
       "    .dataframe tbody tr th:only-of-type {\n",
       "        vertical-align: middle;\n",
       "    }\n",
       "\n",
       "    .dataframe tbody tr th {\n",
       "        vertical-align: top;\n",
       "    }\n",
       "\n",
       "    .dataframe thead th {\n",
       "        text-align: right;\n",
       "    }\n",
       "</style>\n",
       "<table border=\"1\" class=\"dataframe\">\n",
       "  <thead>\n",
       "    <tr style=\"text-align: right;\">\n",
       "      <th></th>\n",
       "      <th>geometry</th>\n",
       "    </tr>\n",
       "  </thead>\n",
       "  <tbody>\n",
       "    <tr>\n",
       "      <th>16301</th>\n",
       "      <td>LINESTRING (939011.113 7254636.121, 942231.630...</td>\n",
       "    </tr>\n",
       "    <tr>\n",
       "      <th>45136</th>\n",
       "      <td>LINESTRING (905394.500 7193375.148, 905394.500...</td>\n",
       "    </tr>\n",
       "    <tr>\n",
       "      <th>50136</th>\n",
       "      <td>LINESTRING (963788.403 7228015.063, 944551.607...</td>\n",
       "    </tr>\n",
       "    <tr>\n",
       "      <th>88775</th>\n",
       "      <td>LINESTRING (902800.817 7192546.975, 902800.839...</td>\n",
       "    </tr>\n",
       "    <tr>\n",
       "      <th>88918</th>\n",
       "      <td>LINESTRING (959332.961 7219877.715, 963788.403...</td>\n",
       "    </tr>\n",
       "  </tbody>\n",
       "</table>\n",
       "</div>"
      ],
      "text/plain": [
       "                                                geometry\n",
       "16301  LINESTRING (939011.113 7254636.121, 942231.630...\n",
       "45136  LINESTRING (905394.500 7193375.148, 905394.500...\n",
       "50136  LINESTRING (963788.403 7228015.063, 944551.607...\n",
       "88775  LINESTRING (902800.817 7192546.975, 902800.839...\n",
       "88918  LINESTRING (959332.961 7219877.715, 963788.403..."
      ]
     },
     "execution_count": 41,
     "metadata": {},
     "output_type": "execute_result"
    }
   ],
   "source": [
    "# NON-EDITABLE CODE CELL FOR TESTING YOUR SOLUTION\n",
    "movements.head()"
   ]
  },
  {
   "cell_type": "code",
   "execution_count": 73,
   "metadata": {},
   "outputs": [
    {
     "data": {
      "image/svg+xml": [
       "<svg xmlns=\"http://www.w3.org/2000/svg\" xmlns:xlink=\"http://www.w3.org/1999/xlink\" width=\"300\" height=\"300\" viewBox=\"936670.0338660268 7210155.711205571 61146.654487143154 47894.06364452839\" preserveAspectRatio=\"xMinYMin meet\"><g transform=\"matrix(1,0,0,-1,0,14468205.48605567)\"><polyline fill=\"none\" stroke=\"#66cc99\" stroke-width=\"407.644363247621\" points=\"939011.1131367432,7254636.120908648 942231.6303657251,7254606.8677609125 943105.5092320241,7252951.966632225 938934.724772958,7255785.083943168 992154.406403298,7249364.81991237 963714.439615038,7227653.687784614 993899.4468451582,7214756.1379709 967158.9031744298,7228720.774834819 995551.9974462388,7212420.402112503\" opacity=\"0.8\" /></g></svg>"
      ],
      "text/plain": [
       "<shapely.geometry.linestring.LineString at 0x7f6500364790>"
      ]
     },
     "execution_count": 73,
     "metadata": {},
     "output_type": "execute_result"
    }
   ],
   "source": [
    "movements.loc[16301, 'geometry']"
   ]
  },
  {
   "cell_type": "markdown",
   "metadata": {},
   "source": [
    "**Finally:**\n",
    "- Check once the crs definition of your dataframe (should be epsg:32735, define the correct crs if this information is missing)\n",
    "- Calculate the lenghts of the lines into a new column called ``distance`` in ``movements`` GeoDataFrame."
   ]
  },
  {
   "cell_type": "code",
   "execution_count": 52,
   "metadata": {
    "deletable": false,
    "nbgrader": {
     "cell_type": "code",
     "checksum": "62a930ec9c24c5520f9a28db361e8090",
     "grade": false,
     "grade_id": "calculate_distance",
     "locked": false,
     "schema_version": 3,
     "solution": true
    }
   },
   "outputs": [],
   "source": [
    "movements.crs = CRS.from_epsg(32735).to_wkt()\n",
    "movements['distance'] = movements['geometry'].length"
   ]
  },
  {
   "cell_type": "code",
   "execution_count": 53,
   "metadata": {
    "deletable": false,
    "editable": false,
    "nbgrader": {
     "cell_type": "code",
     "checksum": "4cc148908d9a6ab5b7e83b51dcc3bf6a",
     "grade": true,
     "grade_id": "problem_3_distances_test",
     "locked": true,
     "points": 2,
     "schema_version": 3,
     "solution": false,
     "task": false
    }
   },
   "outputs": [
    {
     "data": {
      "text/html": [
       "<div>\n",
       "<style scoped>\n",
       "    .dataframe tbody tr th:only-of-type {\n",
       "        vertical-align: middle;\n",
       "    }\n",
       "\n",
       "    .dataframe tbody tr th {\n",
       "        vertical-align: top;\n",
       "    }\n",
       "\n",
       "    .dataframe thead th {\n",
       "        text-align: right;\n",
       "    }\n",
       "</style>\n",
       "<table border=\"1\" class=\"dataframe\">\n",
       "  <thead>\n",
       "    <tr style=\"text-align: right;\">\n",
       "      <th></th>\n",
       "      <th>geometry</th>\n",
       "      <th>distance</th>\n",
       "    </tr>\n",
       "  </thead>\n",
       "  <tbody>\n",
       "    <tr>\n",
       "      <th>16301</th>\n",
       "      <td>LINESTRING (939011.113 7254636.121, 942231.630...</td>\n",
       "      <td>195251.395657</td>\n",
       "    </tr>\n",
       "    <tr>\n",
       "      <th>45136</th>\n",
       "      <td>LINESTRING (905394.500 7193375.148, 905394.500...</td>\n",
       "      <td>0.000000</td>\n",
       "    </tr>\n",
       "    <tr>\n",
       "      <th>50136</th>\n",
       "      <td>LINESTRING (963788.403 7228015.063, 944551.607...</td>\n",
       "      <td>254702.529630</td>\n",
       "    </tr>\n",
       "    <tr>\n",
       "      <th>88775</th>\n",
       "      <td>LINESTRING (902800.817 7192546.975, 902800.839...</td>\n",
       "      <td>0.080245</td>\n",
       "    </tr>\n",
       "    <tr>\n",
       "      <th>88918</th>\n",
       "      <td>LINESTRING (959332.961 7219877.715, 963788.403...</td>\n",
       "      <td>9277.252211</td>\n",
       "    </tr>\n",
       "  </tbody>\n",
       "</table>\n",
       "</div>"
      ],
      "text/plain": [
       "                                                geometry       distance\n",
       "16301  LINESTRING (939011.113 7254636.121, 942231.630...  195251.395657\n",
       "45136  LINESTRING (905394.500 7193375.148, 905394.500...       0.000000\n",
       "50136  LINESTRING (963788.403 7228015.063, 944551.607...  254702.529630\n",
       "88775  LINESTRING (902800.817 7192546.975, 902800.839...       0.080245\n",
       "88918  LINESTRING (959332.961 7219877.715, 963788.403...    9277.252211"
      ]
     },
     "execution_count": 53,
     "metadata": {},
     "output_type": "execute_result"
    }
   ],
   "source": [
    "# NON-EDITABLE CODE CELL FOR TESTING YOUR SOLUTION\n",
    "movements.head()"
   ]
  },
  {
   "cell_type": "markdown",
   "metadata": {
    "deletable": false,
    "editable": false,
    "nbgrader": {
     "cell_type": "markdown",
     "checksum": "318c1e1c021eda696ae482bbd26ef9da",
     "grade": false,
     "grade_id": "questions",
     "locked": true,
     "schema_version": 3,
     "solution": false
    }
   },
   "source": [
    "You should now be able to print answers to the following questions: \n",
    "\n",
    " - What was the shortest distance travelled in meters?\n",
    " - What was the mean distance travelled in meters?\n",
    " - What was the maximum distance travelled in meters?"
   ]
  },
  {
   "cell_type": "code",
   "execution_count": 63,
   "metadata": {},
   "outputs": [
    {
     "name": "stdout",
     "output_type": "stream",
     "text": [
      "Shortest distance travelled in meters: 0.0\n",
      "Mean distance travelled in meters: 69090.3822630253\n",
      "Maximum distance travelled in meters: 4535318.9896208625\n"
     ]
    }
   ],
   "source": [
    "print('Shortest distance travelled in meters: {}'.format(movements['distance'].min()))\n",
    "print('Mean distance travelled in meters: {}'.format(movements['distance'].mean()))\n",
    "print('Maximum distance travelled in meters: {}'.format(movements['distance'].max()))"
   ]
  },
  {
   "cell_type": "markdown",
   "metadata": {},
   "source": [
    "- Finally, save the movements of into a Shapefile called ``some_movements.shp``"
   ]
  },
  {
   "cell_type": "code",
   "execution_count": 64,
   "metadata": {
    "deletable": false,
    "nbgrader": {
     "cell_type": "code",
     "checksum": "157bee0141aa073963a58a4362ccc50d",
     "grade": false,
     "grade_id": "save_file",
     "locked": false,
     "schema_version": 3,
     "solution": true,
     "task": false
    }
   },
   "outputs": [],
   "source": [
    "fp = 'some_movements.shp'\n",
    "movements.to_file(fp)"
   ]
  },
  {
   "cell_type": "code",
   "execution_count": 65,
   "metadata": {
    "deletable": false,
    "editable": false,
    "nbgrader": {
     "cell_type": "code",
     "checksum": "ae12a4596eb26865cecdcbfd160ae72f",
     "grade": true,
     "grade_id": "problem_3_result_tests",
     "locked": true,
     "points": 0.5,
     "schema_version": 3,
     "solution": false
    }
   },
   "outputs": [],
   "source": [
    "# NON-EDITABLE CODE CELL FOR TESTING YOUR SOLUTION\n",
    "import os\n",
    "assert os.path.isfile(fp), \"output shapefile does not exits\""
   ]
  },
  {
   "cell_type": "markdown",
   "metadata": {},
   "source": [
    "That's all for this week!"
   ]
  }
 ],
 "metadata": {
  "anaconda-cloud": {},
  "kernelspec": {
   "display_name": "Python 3",
   "language": "python",
   "name": "python3"
  },
  "language_info": {
   "codemirror_mode": {
    "name": "ipython",
    "version": 3
   },
   "file_extension": ".py",
   "mimetype": "text/x-python",
   "name": "python",
   "nbconvert_exporter": "python",
   "pygments_lexer": "ipython3",
   "version": "3.8.2"
  }
 },
 "nbformat": 4,
 "nbformat_minor": 4
}
