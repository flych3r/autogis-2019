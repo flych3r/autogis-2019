{
 "cells": [
  {
   "cell_type": "code",
   "execution_count": 5,
   "metadata": {},
   "outputs": [],
   "source": [
    "!wget http://www.helsinki.fi/science/accessibility/opetus/autogis/L5_data.zip\n",
    "!unzip L5_data.zip\n",
    "!rm L5_data.zip"
   ]
  },
  {
   "cell_type": "code",
   "execution_count": 3,
   "metadata": {},
   "outputs": [],
   "source": [
    "# import os\n",
    "# import urllib\n",
    "\n",
    "# def get_filename(url):\n",
    "#     \"\"\"\n",
    "#     Parses filename from given url\n",
    "#     \"\"\"\n",
    "#     if url.find('/'):\n",
    "#         return url.rsplit('/', 1)[1]\n",
    "\n",
    "# # Filepaths\n",
    "# outdir = r\"data\"\n",
    "\n",
    "# # File locations\n",
    "# url_list = ['\"https://github.com/Automating-GIS-processes/CSC18/raw/master/data/Helsinki_masked_p188r018_7t20020529_z34__LV-FIN.tif\"']\n",
    "\n",
    "# # Create folder if it does no exist\n",
    "# if not os.path.exists(outdir):\n",
    "#     os.makedirs(outdir)\n",
    "\n",
    "# # Download files\n",
    "# for url in url_list:\n",
    "#     # Parse filename\n",
    "#     fname = get_filename(url)\n",
    "#     outfp = os.path.join(outdir, fname)\n",
    "#     # Download the file if it does not exist already\n",
    "#     if not os.path.exists(outfp):\n",
    "#         print(\"Downloading\", fname)\n",
    "#         r = urllib.request.urlretrieve(url, outfp)"
   ]
  },
  {
   "cell_type": "code",
   "execution_count": null,
   "metadata": {},
   "outputs": [],
   "source": []
  }
 ],
 "metadata": {
  "kernelspec": {
   "display_name": "Python 3",
   "language": "python",
   "name": "python3"
  },
  "language_info": {
   "codemirror_mode": {
    "name": "ipython",
    "version": 3
   },
   "file_extension": ".py",
   "mimetype": "text/x-python",
   "name": "python",
   "nbconvert_exporter": "python",
   "pygments_lexer": "ipython3",
   "version": "3.8.2"
  }
 },
 "nbformat": 4,
 "nbformat_minor": 4
}
