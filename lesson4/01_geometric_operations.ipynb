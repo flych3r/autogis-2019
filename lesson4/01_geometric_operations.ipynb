{
 "cells": [
  {
   "cell_type": "code",
   "execution_count": 2,
   "metadata": {},
   "outputs": [
    {
     "name": "stdout",
     "output_type": "stream",
     "text": [
      "Archive:  L4_data.zip\n",
      " extracting: L4_data/Amazon_river.cpg  \n",
      "  inflating: L4_data/Amazon_river.dbf  \n",
      "  inflating: L4_data/Amazon_river.prj  \n",
      "  inflating: L4_data/Amazon_river.shp  \n",
      "  inflating: L4_data/Amazon_river.shx  \n",
      " extracting: L4_data/Helsinki_borders.cpg  \n",
      "  inflating: L4_data/Helsinki_borders.dbf  \n",
      "  inflating: L4_data/Helsinki_borders.prj  \n",
      "  inflating: L4_data/Helsinki_borders.shp  \n",
      "  inflating: L4_data/Helsinki_borders.shx  \n",
      " extracting: L4_data/TravelTimes_to_5975375_RailwayStation.cpg  \n",
      "  inflating: L4_data/TravelTimes_to_5975375_RailwayStation.dbf  \n",
      "  inflating: L4_data/TravelTimes_to_5975375_RailwayStation.prj  \n",
      "  inflating: L4_data/TravelTimes_to_5975375_RailwayStation.shp  \n",
      "  inflating: L4_data/TravelTimes_to_5975375_RailwayStation.shx  \n"
     ]
    }
   ],
   "source": [
    "!wget https://github.com/AutoGIS/data/raw/master/L4_data.zip\n",
    "!unzip L4_data.zip -d 'L4_data'"
   ]
  },
  {
   "cell_type": "code",
   "execution_count": 3,
   "metadata": {},
   "outputs": [],
   "source": [
    "import geopandas as gpd\n",
    "import matplotlib.pyplot as plt\n",
    "import shapely.speedups"
   ]
  },
  {
   "cell_type": "code",
   "execution_count": 5,
   "metadata": {},
   "outputs": [],
   "source": [
    "boder_fp = 'L4_data/Helsinki_borders.shp'\n",
    "grid_fp = 'L4_data/TravelTimes_to_5975375_RailwayStation.shp'\n",
    "\n",
    "border = gpd.read_file(boder_fp)\n",
    "grid = gpd.read_file(grid_fp)"
   ]
  },
  {
   "cell_type": "code",
   "execution_count": 8,
   "metadata": {},
   "outputs": [
    {
     "data": {
      "text/plain": [
       "<matplotlib.axes._subplots.AxesSubplot at 0x7f499cb800a0>"
      ]
     },
     "execution_count": 8,
     "metadata": {},
     "output_type": "execute_result"
    },
    {
     "data": {
      "image/png": "[encoded data removed]",
      "text/plain": [
       "<Figure size 432x288 with 1 Axes>"
      ]
     },
     "metadata": {
      "needs_background": "light"
     },
     "output_type": "display_data"
    }
   ],
   "source": [
    "ax = grid.plot(facecolor='gray')\n",
    "border.plot(ax=ax, facecolor='None', edgecolor='blue')"
   ]
  },
  {
   "cell_type": "code",
   "execution_count": 10,
   "metadata": {},
   "outputs": [],
   "source": [
    "assert grid.crs == border.crs, \"CRS differs between layers!\""
   ]
  },
  {
   "cell_type": "code",
   "execution_count": 16,
   "metadata": {},
   "outputs": [
    {
     "data": {
      "text/plain": [
       "<matplotlib.axes._subplots.AxesSubplot at 0x7f4996221070>"
      ]
     },
     "execution_count": 16,
     "metadata": {},
     "output_type": "execute_result"
    },
    {
     "data": {
      "image/png": "[encoded data removed]",
      "text/plain": [
       "<Figure size 432x288 with 1 Axes>"
      ]
     },
     "metadata": {
      "needs_background": "light"
     },
     "output_type": "display_data"
    }
   ],
   "source": [
    "intersection = gpd.overlay(grid, border, how='intersection')\n",
    "intersection.plot()"
   ]
  },
  {
   "cell_type": "code",
   "execution_count": 17,
   "metadata": {},
   "outputs": [
    {
     "data": {
      "text/html": [
       "<div>\n",
       "<style scoped>\n",
       "    .dataframe tbody tr th:only-of-type {\n",
       "        vertical-align: middle;\n",
       "    }\n",
       "\n",
       "    .dataframe tbody tr th {\n",
       "        vertical-align: top;\n",
       "    }\n",
       "\n",
       "    .dataframe thead th {\n",
       "        text-align: right;\n",
       "    }\n",
       "</style>\n",
       "<table border=\"1\" class=\"dataframe\">\n",
       "  <thead>\n",
       "    <tr style=\"text-align: right;\">\n",
       "      <th></th>\n",
       "      <th>car_m_d</th>\n",
       "      <th>car_m_t</th>\n",
       "      <th>car_r_d</th>\n",
       "      <th>car_r_t</th>\n",
       "      <th>from_id</th>\n",
       "      <th>pt_m_d</th>\n",
       "      <th>pt_m_t</th>\n",
       "      <th>pt_m_tt</th>\n",
       "      <th>pt_r_d</th>\n",
       "      <th>pt_r_t</th>\n",
       "      <th>pt_r_tt</th>\n",
       "      <th>to_id</th>\n",
       "      <th>walk_d</th>\n",
       "      <th>walk_t</th>\n",
       "      <th>GML_ID</th>\n",
       "      <th>NAMEFIN</th>\n",
       "      <th>NAMESWE</th>\n",
       "      <th>NATCODE</th>\n",
       "      <th>geometry</th>\n",
       "    </tr>\n",
       "  </thead>\n",
       "  <tbody>\n",
       "    <tr>\n",
       "      <th>0</th>\n",
       "      <td>29476</td>\n",
       "      <td>41</td>\n",
       "      <td>29483</td>\n",
       "      <td>46</td>\n",
       "      <td>5876274</td>\n",
       "      <td>29990</td>\n",
       "      <td>76</td>\n",
       "      <td>95</td>\n",
       "      <td>24984</td>\n",
       "      <td>77</td>\n",
       "      <td>99</td>\n",
       "      <td>5975375</td>\n",
       "      <td>25532</td>\n",
       "      <td>365</td>\n",
       "      <td>27517366</td>\n",
       "      <td>Helsinki</td>\n",
       "      <td>Helsingfors</td>\n",
       "      <td>091</td>\n",
       "      <td>POLYGON ((402250.000 6685750.000, 402024.224 6...</td>\n",
       "    </tr>\n",
       "    <tr>\n",
       "      <th>1</th>\n",
       "      <td>29456</td>\n",
       "      <td>41</td>\n",
       "      <td>29462</td>\n",
       "      <td>46</td>\n",
       "      <td>5876275</td>\n",
       "      <td>29866</td>\n",
       "      <td>74</td>\n",
       "      <td>95</td>\n",
       "      <td>24860</td>\n",
       "      <td>75</td>\n",
       "      <td>93</td>\n",
       "      <td>5975375</td>\n",
       "      <td>25408</td>\n",
       "      <td>363</td>\n",
       "      <td>27517366</td>\n",
       "      <td>Helsinki</td>\n",
       "      <td>Helsingfors</td>\n",
       "      <td>091</td>\n",
       "      <td>POLYGON ((402367.890 6685750.000, 402250.000 6...</td>\n",
       "    </tr>\n",
       "    <tr>\n",
       "      <th>2</th>\n",
       "      <td>36772</td>\n",
       "      <td>50</td>\n",
       "      <td>36778</td>\n",
       "      <td>56</td>\n",
       "      <td>5876278</td>\n",
       "      <td>33541</td>\n",
       "      <td>116</td>\n",
       "      <td>137</td>\n",
       "      <td>44265</td>\n",
       "      <td>130</td>\n",
       "      <td>146</td>\n",
       "      <td>5975375</td>\n",
       "      <td>31110</td>\n",
       "      <td>444</td>\n",
       "      <td>27517366</td>\n",
       "      <td>Helsinki</td>\n",
       "      <td>Helsingfors</td>\n",
       "      <td>091</td>\n",
       "      <td>POLYGON ((403250.000 6685750.000, 403148.515 6...</td>\n",
       "    </tr>\n",
       "    <tr>\n",
       "      <th>3</th>\n",
       "      <td>36898</td>\n",
       "      <td>49</td>\n",
       "      <td>36904</td>\n",
       "      <td>56</td>\n",
       "      <td>5876279</td>\n",
       "      <td>33720</td>\n",
       "      <td>119</td>\n",
       "      <td>141</td>\n",
       "      <td>44444</td>\n",
       "      <td>132</td>\n",
       "      <td>155</td>\n",
       "      <td>5975375</td>\n",
       "      <td>31289</td>\n",
       "      <td>447</td>\n",
       "      <td>27517366</td>\n",
       "      <td>Helsinki</td>\n",
       "      <td>Helsingfors</td>\n",
       "      <td>091</td>\n",
       "      <td>POLYGON ((403456.484 6685750.000, 403250.000 6...</td>\n",
       "    </tr>\n",
       "    <tr>\n",
       "      <th>4</th>\n",
       "      <td>29411</td>\n",
       "      <td>40</td>\n",
       "      <td>29418</td>\n",
       "      <td>44</td>\n",
       "      <td>5878128</td>\n",
       "      <td>29944</td>\n",
       "      <td>75</td>\n",
       "      <td>95</td>\n",
       "      <td>24938</td>\n",
       "      <td>76</td>\n",
       "      <td>99</td>\n",
       "      <td>5975375</td>\n",
       "      <td>25486</td>\n",
       "      <td>364</td>\n",
       "      <td>27517366</td>\n",
       "      <td>Helsinki</td>\n",
       "      <td>Helsingfors</td>\n",
       "      <td>091</td>\n",
       "      <td>POLYGON ((402000.000 6685500.000, 401900.425 6...</td>\n",
       "    </tr>\n",
       "  </tbody>\n",
       "</table>\n",
       "</div>"
      ],
      "text/plain": [
       "   car_m_d  car_m_t  car_r_d  car_r_t  from_id  pt_m_d  pt_m_t  pt_m_tt  \\\n",
       "0    29476       41    29483       46  5876274   29990      76       95   \n",
       "1    29456       41    29462       46  5876275   29866      74       95   \n",
       "2    36772       50    36778       56  5876278   33541     116      137   \n",
       "3    36898       49    36904       56  5876279   33720     119      141   \n",
       "4    29411       40    29418       44  5878128   29944      75       95   \n",
       "\n",
       "   pt_r_d  pt_r_t  pt_r_tt    to_id  walk_d  walk_t    GML_ID   NAMEFIN  \\\n",
       "0   24984      77       99  5975375   25532     365  27517366  Helsinki   \n",
       "1   24860      75       93  5975375   25408     363  27517366  Helsinki   \n",
       "2   44265     130      146  5975375   31110     444  27517366  Helsinki   \n",
       "3   44444     132      155  5975375   31289     447  27517366  Helsinki   \n",
       "4   24938      76       99  5975375   25486     364  27517366  Helsinki   \n",
       "\n",
       "       NAMESWE NATCODE                                           geometry  \n",
       "0  Helsingfors     091  POLYGON ((402250.000 6685750.000, 402024.224 6...  \n",
       "1  Helsingfors     091  POLYGON ((402367.890 6685750.000, 402250.000 6...  \n",
       "2  Helsingfors     091  POLYGON ((403250.000 6685750.000, 403148.515 6...  \n",
       "3  Helsingfors     091  POLYGON ((403456.484 6685750.000, 403250.000 6...  \n",
       "4  Helsingfors     091  POLYGON ((402000.000 6685500.000, 401900.425 6...  "
      ]
     },
     "execution_count": 17,
     "metadata": {},
     "output_type": "execute_result"
    }
   ],
   "source": [
    "intersection.head()"
   ]
  },
  {
   "cell_type": "code",
   "execution_count": 18,
   "metadata": {},
   "outputs": [],
   "source": [
    "out_fp = 'L4_data/TravelTimes_to_5975375_RailwayStation_Helsinki.geojson'\n",
    "\n",
    "intersection.to_file(out_fp, driver='GeoJSON')"
   ]
  },
  {
   "cell_type": "markdown",
   "metadata": {},
   "source": [
    "# Aggregating data"
   ]
  },
  {
   "cell_type": "code",
   "execution_count": 25,
   "metadata": {},
   "outputs": [
    {
     "data": {
      "text/html": [
       "<div>\n",
       "<style scoped>\n",
       "    .dataframe tbody tr th:only-of-type {\n",
       "        vertical-align: middle;\n",
       "    }\n",
       "\n",
       "    .dataframe tbody tr th {\n",
       "        vertical-align: top;\n",
       "    }\n",
       "\n",
       "    .dataframe thead th {\n",
       "        text-align: right;\n",
       "    }\n",
       "</style>\n",
       "<table border=\"1\" class=\"dataframe\">\n",
       "  <thead>\n",
       "    <tr style=\"text-align: right;\">\n",
       "      <th></th>\n",
       "      <th>geometry</th>\n",
       "      <th>car_m_d</th>\n",
       "      <th>car_m_t</th>\n",
       "      <th>car_r_d</th>\n",
       "      <th>from_id</th>\n",
       "      <th>pt_m_d</th>\n",
       "      <th>pt_m_t</th>\n",
       "      <th>pt_m_tt</th>\n",
       "      <th>pt_r_d</th>\n",
       "      <th>pt_r_t</th>\n",
       "      <th>pt_r_tt</th>\n",
       "      <th>to_id</th>\n",
       "      <th>walk_d</th>\n",
       "      <th>walk_t</th>\n",
       "      <th>GML_ID</th>\n",
       "      <th>NAMEFIN</th>\n",
       "      <th>NAMESWE</th>\n",
       "      <th>NATCODE</th>\n",
       "    </tr>\n",
       "    <tr>\n",
       "      <th>car_r_t</th>\n",
       "      <th></th>\n",
       "      <th></th>\n",
       "      <th></th>\n",
       "      <th></th>\n",
       "      <th></th>\n",
       "      <th></th>\n",
       "      <th></th>\n",
       "      <th></th>\n",
       "      <th></th>\n",
       "      <th></th>\n",
       "      <th></th>\n",
       "      <th></th>\n",
       "      <th></th>\n",
       "      <th></th>\n",
       "      <th></th>\n",
       "      <th></th>\n",
       "      <th></th>\n",
       "      <th></th>\n",
       "    </tr>\n",
       "  </thead>\n",
       "  <tbody>\n",
       "    <tr>\n",
       "      <th>-1</th>\n",
       "      <td>MULTIPOLYGON (((388000.000 6668750.000, 387750...</td>\n",
       "      <td>-1</td>\n",
       "      <td>-1</td>\n",
       "      <td>-1</td>\n",
       "      <td>5913094</td>\n",
       "      <td>-1</td>\n",
       "      <td>-1</td>\n",
       "      <td>-1</td>\n",
       "      <td>-1</td>\n",
       "      <td>-1</td>\n",
       "      <td>-1</td>\n",
       "      <td>-1</td>\n",
       "      <td>-1</td>\n",
       "      <td>-1</td>\n",
       "      <td>27517366</td>\n",
       "      <td>Helsinki</td>\n",
       "      <td>Helsingfors</td>\n",
       "      <td>091</td>\n",
       "    </tr>\n",
       "    <tr>\n",
       "      <th>0</th>\n",
       "      <td>POLYGON ((386000.000 6672000.000, 385750.000 6...</td>\n",
       "      <td>0</td>\n",
       "      <td>0</td>\n",
       "      <td>0</td>\n",
       "      <td>5975375</td>\n",
       "      <td>0</td>\n",
       "      <td>0</td>\n",
       "      <td>0</td>\n",
       "      <td>0</td>\n",
       "      <td>0</td>\n",
       "      <td>0</td>\n",
       "      <td>5975375</td>\n",
       "      <td>0</td>\n",
       "      <td>0</td>\n",
       "      <td>27517366</td>\n",
       "      <td>Helsinki</td>\n",
       "      <td>Helsingfors</td>\n",
       "      <td>091</td>\n",
       "    </tr>\n",
       "    <tr>\n",
       "      <th>7</th>\n",
       "      <td>POLYGON ((386250.000 6671750.000, 386000.000 6...</td>\n",
       "      <td>1051</td>\n",
       "      <td>7</td>\n",
       "      <td>1051</td>\n",
       "      <td>5973739</td>\n",
       "      <td>617</td>\n",
       "      <td>5</td>\n",
       "      <td>6</td>\n",
       "      <td>617</td>\n",
       "      <td>5</td>\n",
       "      <td>6</td>\n",
       "      <td>5975375</td>\n",
       "      <td>448</td>\n",
       "      <td>6</td>\n",
       "      <td>27517366</td>\n",
       "      <td>Helsinki</td>\n",
       "      <td>Helsingfors</td>\n",
       "      <td>091</td>\n",
       "    </tr>\n",
       "    <tr>\n",
       "      <th>8</th>\n",
       "      <td>MULTIPOLYGON (((386250.000 6671500.000, 386000...</td>\n",
       "      <td>1286</td>\n",
       "      <td>8</td>\n",
       "      <td>1286</td>\n",
       "      <td>5973736</td>\n",
       "      <td>706</td>\n",
       "      <td>10</td>\n",
       "      <td>10</td>\n",
       "      <td>706</td>\n",
       "      <td>10</td>\n",
       "      <td>10</td>\n",
       "      <td>5975375</td>\n",
       "      <td>706</td>\n",
       "      <td>10</td>\n",
       "      <td>27517366</td>\n",
       "      <td>Helsinki</td>\n",
       "      <td>Helsingfors</td>\n",
       "      <td>091</td>\n",
       "    </tr>\n",
       "    <tr>\n",
       "      <th>9</th>\n",
       "      <td>MULTIPOLYGON (((386500.000 6671250.000, 386250...</td>\n",
       "      <td>1871</td>\n",
       "      <td>9</td>\n",
       "      <td>1871</td>\n",
       "      <td>5970457</td>\n",
       "      <td>1384</td>\n",
       "      <td>11</td>\n",
       "      <td>13</td>\n",
       "      <td>1394</td>\n",
       "      <td>11</td>\n",
       "      <td>12</td>\n",
       "      <td>5975375</td>\n",
       "      <td>1249</td>\n",
       "      <td>18</td>\n",
       "      <td>27517366</td>\n",
       "      <td>Helsinki</td>\n",
       "      <td>Helsingfors</td>\n",
       "      <td>091</td>\n",
       "    </tr>\n",
       "  </tbody>\n",
       "</table>\n",
       "</div>"
      ],
      "text/plain": [
       "                                                  geometry  car_m_d  car_m_t  \\\n",
       "car_r_t                                                                        \n",
       "-1       MULTIPOLYGON (((388000.000 6668750.000, 387750...       -1       -1   \n",
       " 0       POLYGON ((386000.000 6672000.000, 385750.000 6...        0        0   \n",
       " 7       POLYGON ((386250.000 6671750.000, 386000.000 6...     1051        7   \n",
       " 8       MULTIPOLYGON (((386250.000 6671500.000, 386000...     1286        8   \n",
       " 9       MULTIPOLYGON (((386500.000 6671250.000, 386250...     1871        9   \n",
       "\n",
       "         car_r_d  from_id  pt_m_d  pt_m_t  pt_m_tt  pt_r_d  pt_r_t  pt_r_tt  \\\n",
       "car_r_t                                                                       \n",
       "-1            -1  5913094      -1      -1       -1      -1      -1       -1   \n",
       " 0             0  5975375       0       0        0       0       0        0   \n",
       " 7          1051  5973739     617       5        6     617       5        6   \n",
       " 8          1286  5973736     706      10       10     706      10       10   \n",
       " 9          1871  5970457    1384      11       13    1394      11       12   \n",
       "\n",
       "           to_id  walk_d  walk_t    GML_ID   NAMEFIN      NAMESWE NATCODE  \n",
       "car_r_t                                                                    \n",
       "-1            -1      -1      -1  27517366  Helsinki  Helsingfors     091  \n",
       " 0       5975375       0       0  27517366  Helsinki  Helsingfors     091  \n",
       " 7       5975375     448       6  27517366  Helsinki  Helsingfors     091  \n",
       " 8       5975375     706      10  27517366  Helsinki  Helsingfors     091  \n",
       " 9       5975375    1249      18  27517366  Helsinki  Helsingfors     091  "
      ]
     },
     "execution_count": 25,
     "metadata": {},
     "output_type": "execute_result"
    }
   ],
   "source": [
    "dissolved = intersection.dissolve(by='car_r_t')\n",
    "dissolved.head()"
   ]
  },
  {
   "cell_type": "code",
   "execution_count": 26,
   "metadata": {},
   "outputs": [
    {
     "name": "stdout",
     "output_type": "stream",
     "text": [
      "Rows in original intersection GeoDataFrame: 3826\n",
      "Rows in dissolved layer: 51\n"
     ]
    }
   ],
   "source": [
    "print('Rows in original intersection GeoDataFrame:', len(intersection))\n",
    "print('Rows in dissolved layer:', len(dissolved))"
   ]
  },
  {
   "cell_type": "code",
   "execution_count": 32,
   "metadata": {},
   "outputs": [
    {
     "data": {
      "text/plain": [
       "geometry    (POLYGON ((388250.0001354316 6668750.000042891...\n",
       "car_m_d                                                 12035\n",
       "car_m_t                                                    18\n",
       "car_r_d                                                 11997\n",
       "from_id                                               5903886\n",
       "pt_m_d                                                  11568\n",
       "pt_m_t                                                     30\n",
       "pt_m_tt                                                    36\n",
       "pt_r_d                                                  11568\n",
       "pt_r_t                                                     34\n",
       "pt_r_tt                                                    37\n",
       "to_id                                                 5975375\n",
       "walk_d                                                  11638\n",
       "walk_t                                                    166\n",
       "GML_ID                                               27517366\n",
       "NAMEFIN                                              Helsinki\n",
       "NAMESWE                                           Helsingfors\n",
       "NATCODE                                                   091\n",
       "Name: 20, dtype: object"
      ]
     },
     "execution_count": 32,
     "metadata": {},
     "output_type": "execute_result"
    }
   ],
   "source": [
    "dissolved.iloc[15]"
   ]
  },
  {
   "cell_type": "code",
   "execution_count": 34,
   "metadata": {},
   "outputs": [],
   "source": [
    "selection = gpd.GeoDataFrame([dissolved.iloc[15]], crs=dissolved.crs)"
   ]
  },
  {
   "cell_type": "code",
   "execution_count": 35,
   "metadata": {},
   "outputs": [
    {
     "data": {
      "text/plain": [
       "<matplotlib.axes._subplots.AxesSubplot at 0x7f49966a3f10>"
      ]
     },
     "execution_count": 35,
     "metadata": {},
     "output_type": "execute_result"
    },
    {
     "data": {
      "image/png": "[encoded data removed]",
      "text/plain": [
       "<Figure size 432x288 with 1 Axes>"
      ]
     },
     "metadata": {
      "needs_background": "light"
     },
     "output_type": "display_data"
    }
   ],
   "source": [
    "ax = dissolved.plot(facecolor='gray')\n",
    "selection.plot(ax=ax, facecolor='red')"
   ]
  },
  {
   "cell_type": "markdown",
   "metadata": {},
   "source": [
    "# Simplifying geometries"
   ]
  },
  {
   "cell_type": "code",
   "execution_count": 36,
   "metadata": {},
   "outputs": [],
   "source": [
    "fp = 'L4_data/Amazon_river.shp'\n",
    "data = gpd.read_file(fp)"
   ]
  },
  {
   "cell_type": "code",
   "execution_count": 37,
   "metadata": {},
   "outputs": [
    {
     "data": {
      "text/plain": [
       "<Projected CRS: PROJCS[\"Mercator_2SP\",GEOGCS[\"GCS_GRS 1980(IUGG, 1 ...>\n",
       "Name: Mercator_2SP\n",
       "Axis Info [cartesian]:\n",
       "- [east]: Easting (metre)\n",
       "- [north]: Northing (metre)\n",
       "Area of Use:\n",
       "- undefined\n",
       "Coordinate Operation:\n",
       "- name: unnamed\n",
       "- method: Mercator (variant B)\n",
       "Datum: D_unknown\n",
       "- Ellipsoid: GRS80\n",
       "- Prime Meridian: Unknown"
      ]
     },
     "execution_count": 37,
     "metadata": {},
     "output_type": "execute_result"
    }
   ],
   "source": [
    "data.crs"
   ]
  },
  {
   "cell_type": "code",
   "execution_count": 38,
   "metadata": {},
   "outputs": [
    {
     "data": {
      "image/png": "[encoded data removed]",
      "text/plain": [
       "<Figure size 432x288 with 1 Axes>"
      ]
     },
     "metadata": {
      "needs_background": "light"
     },
     "output_type": "display_data"
    }
   ],
   "source": [
    "data.plot();"
   ]
  },
  {
   "cell_type": "code",
   "execution_count": 40,
   "metadata": {},
   "outputs": [
    {
     "data": {
      "image/png": "[encoded data removed]",
      "text/plain": [
       "<Figure size 432x288 with 1 Axes>"
      ]
     },
     "metadata": {
      "needs_background": "light"
     },
     "output_type": "display_data"
    }
   ],
   "source": [
    "data['geom_gen'] = data.simplify(tolerance=20000)\n",
    "\n",
    "# Set geometry to be our new simlified geometry\n",
    "data = data.set_geometry('geom_gen')\n",
    "\n",
    "data.plot();"
   ]
  },
  {
   "cell_type": "code",
   "execution_count": null,
   "metadata": {},
   "outputs": [],
   "source": []
  }
 ],
 "metadata": {
  "kernelspec": {
   "display_name": "Python 3",
   "language": "python",
   "name": "python3"
  },
  "language_info": {
   "codemirror_mode": {
    "name": "ipython",
    "version": 3
   },
   "file_extension": ".py",
   "mimetype": "text/x-python",
   "name": "python",
   "nbconvert_exporter": "python",
   "pygments_lexer": "ipython3",
   "version": "3.8.2"
  }
 },
 "nbformat": 4,
 "nbformat_minor": 4
}
